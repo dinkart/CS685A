{
 "cells": [
  {
   "cell_type": "code",
   "execution_count": 1,
   "id": "24ddf384",
   "metadata": {},
   "outputs": [],
   "source": [
    "import pandas as pd"
   ]
  },
  {
   "cell_type": "code",
   "execution_count": 2,
   "id": "9d499036",
   "metadata": {},
   "outputs": [],
   "source": [
    "cols = [\"state-code\", \"area-name\", \"mother-tongue\", \"tot_p\"]\n",
    "df1 = pd.read_excel(\"../Data/DDW-C16-STMT-MDDS-0000.XLSX\", skiprows = [0,1,2,3,5], names = cols, usecols = [1, 4, 6, 7])\n",
    "df1['mother-tongue'] = df1['mother-tongue'].str.replace(r'\\d+', '', regex = True)\n",
    "df1 = df1[df1['mother-tongue'].str.isupper()]"
   ]
  },
  {
   "cell_type": "code",
   "execution_count": 3,
   "id": "4f12d717",
   "metadata": {},
   "outputs": [],
   "source": [
    "north = df1[(df1['area-name'] == \"JAMMU & KASHMIR\") | (df1['area-name'] == \"PUNJAB\") | (df1['area-name'] == \"HIMACHAL PRADESH\") | (df1['area-name'] == \"HARYANA\") | (df1['area-name'] == \"UTTARAKHAND\") | (df1['area-name'] == \"NCT OF DELHI\") | (df1['area-name'] == \"CHANDIGARH\")]\n",
    "west = df1[(df1['area-name'] == \"RAJASTHAN\") | (df1['area-name'] == \"GUJARAT\") | (df1['area-name'] == \"MAHARASHTRA\") | (df1['area-name'] == \"GOA\") | (df1['area-name'] == \"DADRA & NAGAR HAVELI\") | (df1['area-name'] == \"DAMAN & DIU\")]\n",
    "central = df1[(df1['area-name'] == \"MADHYA PRADESH\") | (df1['area-name'] == \"UTTAR PRADESH\") | (df1['area-name'] == \"CHHATTISGARH\")]\n",
    "east = df1[(df1['area-name'] == \"BIHAR\") | (df1['area-name'] == \"WEST BENGAL\") | (df1['area-name'] == \"ODISHA\") | (df1['area-name'] == \"JHARKHAND\")]\n",
    "south = df1[(df1['area-name'] == \"KARNATAKA\") | (df1['area-name'] == \"ANDHRA PRADESH\") | (df1['area-name'] == \"TAMIL NADU\") | (df1['area-name'] == \"KERALA\") | (df1['area-name'] == \"LAKSHADWEEP\") | (df1['area-name'] == \"PUDUCHERRY\")]\n",
    "north_east = df1[(df1['area-name'] == \"ASSAM\") | (df1['area-name'] == \"SIKKIM\") | (df1['area-name'] == \"MEGHALAYA\") | (df1['area-name'] == \"TRIPURA\") | (df1['area-name'] == \"ARUNACHAL PRADESH\") | (df1['area-name'] == \"MANIPUR\") | (df1['area-name'] == \"NAGALAND\") | (df1['area-name'] == \"MIZORAM\") | (df1['area-name'] == \"ANDAMAN & NICOBAR ISLANDS\")]"
   ]
  },
  {
   "cell_type": "code",
   "execution_count": 4,
   "id": "e8ec0676",
   "metadata": {},
   "outputs": [],
   "source": [
    "output = {\"region\": [], \"language-1\": [], \"language-2\": [], \"language-3\": []}\n",
    "output[\"region\"].append(\"North\")\n",
    "north = north.groupby([\"mother-tongue\"], as_index=False).agg(\"sum\").sort_values(by=['tot_p'], ascending=False, ignore_index = True)\n",
    "output[\"language-1\"].append(north[\"mother-tongue\"][0])\n",
    "output[\"language-2\"].append(north[\"mother-tongue\"][1])\n",
    "output[\"language-3\"].append(north[\"mother-tongue\"][2])"
   ]
  },
  {
   "cell_type": "code",
   "execution_count": 5,
   "id": "58895d68",
   "metadata": {},
   "outputs": [],
   "source": [
    "output[\"region\"].append(\"West\")\n",
    "west = west.groupby([\"mother-tongue\"], as_index=False).agg(\"sum\").sort_values(by=['tot_p'], ascending=False, ignore_index = True)\n",
    "output[\"language-1\"].append(west[\"mother-tongue\"][0])\n",
    "output[\"language-2\"].append(west[\"mother-tongue\"][1])\n",
    "output[\"language-3\"].append(west[\"mother-tongue\"][2])"
   ]
  },
  {
   "cell_type": "code",
   "execution_count": 6,
   "id": "0f2c3128",
   "metadata": {},
   "outputs": [],
   "source": [
    "output[\"region\"].append(\"Central\")\n",
    "central = central.groupby([\"mother-tongue\"], as_index=False).agg(\"sum\").sort_values(by=['tot_p'], ascending=False, ignore_index = True)\n",
    "output[\"language-1\"].append(central[\"mother-tongue\"][0])\n",
    "output[\"language-2\"].append(central[\"mother-tongue\"][1])\n",
    "output[\"language-3\"].append(central[\"mother-tongue\"][2])"
   ]
  },
  {
   "cell_type": "code",
   "execution_count": 7,
   "id": "56dc46eb",
   "metadata": {},
   "outputs": [],
   "source": [
    "output[\"region\"].append(\"East\")\n",
    "east = east.groupby([\"mother-tongue\"], as_index=False).agg(\"sum\").sort_values(by=['tot_p'], ascending=False, ignore_index = True)\n",
    "output[\"language-1\"].append(east[\"mother-tongue\"][0])\n",
    "output[\"language-2\"].append(east[\"mother-tongue\"][1])\n",
    "output[\"language-3\"].append(east[\"mother-tongue\"][2])"
   ]
  },
  {
   "cell_type": "code",
   "execution_count": 8,
   "id": "f4f0c859",
   "metadata": {},
   "outputs": [],
   "source": [
    "output[\"region\"].append(\"South\")\n",
    "south = south.groupby([\"mother-tongue\"], as_index=False).agg(\"sum\").sort_values(by=['tot_p'], ascending=False, ignore_index = True)\n",
    "output[\"language-1\"].append(south[\"mother-tongue\"][0])\n",
    "output[\"language-2\"].append(south[\"mother-tongue\"][1])\n",
    "output[\"language-3\"].append(south[\"mother-tongue\"][2])"
   ]
  },
  {
   "cell_type": "code",
   "execution_count": 9,
   "id": "290ecc62",
   "metadata": {},
   "outputs": [],
   "source": [
    "output[\"region\"].append(\"North East\")\n",
    "north_east = north_east.groupby([\"mother-tongue\"], as_index=False).agg(\"sum\").sort_values(by=['tot_p'], ascending=False, ignore_index = True)\n",
    "output[\"language-1\"].append(north_east[\"mother-tongue\"][0])\n",
    "output[\"language-2\"].append(north_east[\"mother-tongue\"][1])\n",
    "output[\"language-3\"].append(north_east[\"mother-tongue\"][2])"
   ]
  },
  {
   "cell_type": "code",
   "execution_count": 10,
   "id": "437df71e",
   "metadata": {},
   "outputs": [],
   "source": [
    "df = pd.DataFrame(output).sort_values(by = ['region'], ignore_index = True)\n",
    "df.to_csv(\"../Final Outputs/region-india-a.csv\", index = False)"
   ]
  },
  {
   "cell_type": "code",
   "execution_count": 12,
   "id": "2dc4d742",
   "metadata": {},
   "outputs": [
    {
     "data": {
      "text/html": [
       "<div>\n",
       "<style scoped>\n",
       "    .dataframe tbody tr th:only-of-type {\n",
       "        vertical-align: middle;\n",
       "    }\n",
       "\n",
       "    .dataframe tbody tr th {\n",
       "        vertical-align: top;\n",
       "    }\n",
       "\n",
       "    .dataframe thead th {\n",
       "        text-align: right;\n",
       "    }\n",
       "</style>\n",
       "<table border=\"1\" class=\"dataframe\">\n",
       "  <thead>\n",
       "    <tr style=\"text-align: right;\">\n",
       "      <th></th>\n",
       "      <th>region</th>\n",
       "      <th>language-1</th>\n",
       "      <th>language-2</th>\n",
       "      <th>language-3</th>\n",
       "    </tr>\n",
       "  </thead>\n",
       "  <tbody>\n",
       "    <tr>\n",
       "      <th>0</th>\n",
       "      <td>Central</td>\n",
       "      <td>HINDI</td>\n",
       "      <td>URDU</td>\n",
       "      <td>BHILI/BHILODI</td>\n",
       "    </tr>\n",
       "    <tr>\n",
       "      <th>1</th>\n",
       "      <td>East</td>\n",
       "      <td>HINDI</td>\n",
       "      <td>BENGALI</td>\n",
       "      <td>ODIA</td>\n",
       "    </tr>\n",
       "    <tr>\n",
       "      <th>2</th>\n",
       "      <td>North</td>\n",
       "      <td>HINDI</td>\n",
       "      <td>PUNJABI</td>\n",
       "      <td>KASHMIRI</td>\n",
       "    </tr>\n",
       "    <tr>\n",
       "      <th>3</th>\n",
       "      <td>North East</td>\n",
       "      <td>ASSAMESE</td>\n",
       "      <td>BENGALI</td>\n",
       "      <td>HINDI</td>\n",
       "    </tr>\n",
       "    <tr>\n",
       "      <th>4</th>\n",
       "      <td>South</td>\n",
       "      <td>TELUGU</td>\n",
       "      <td>TAMIL</td>\n",
       "      <td>KANNADA</td>\n",
       "    </tr>\n",
       "    <tr>\n",
       "      <th>5</th>\n",
       "      <td>West</td>\n",
       "      <td>HINDI</td>\n",
       "      <td>MARATHI</td>\n",
       "      <td>GUJARATI</td>\n",
       "    </tr>\n",
       "  </tbody>\n",
       "</table>\n",
       "</div>"
      ],
      "text/plain": [
       "       region language-1 language-2       language-3\n",
       "0     Central     HINDI        URDU   BHILI/BHILODI \n",
       "1        East     HINDI    BENGALI             ODIA \n",
       "2       North     HINDI    PUNJABI         KASHMIRI \n",
       "3  North East   ASSAMESE   BENGALI            HINDI \n",
       "4       South    TELUGU      TAMIL           KANNADA\n",
       "5        West     HINDI    MARATHI          GUJARATI"
      ]
     },
     "execution_count": 12,
     "metadata": {},
     "output_type": "execute_result"
    }
   ],
   "source": [
    "df"
   ]
  },
  {
   "cell_type": "code",
   "execution_count": null,
   "id": "43918310",
   "metadata": {},
   "outputs": [],
   "source": []
  }
 ],
 "metadata": {
  "kernelspec": {
   "display_name": "Python 3 (ipykernel)",
   "language": "python",
   "name": "python3"
  },
  "language_info": {
   "codemirror_mode": {
    "name": "ipython",
    "version": 3
   },
   "file_extension": ".py",
   "mimetype": "text/x-python",
   "name": "python",
   "nbconvert_exporter": "python",
   "pygments_lexer": "ipython3",
   "version": "3.9.6"
  }
 },
 "nbformat": 4,
 "nbformat_minor": 5
}
