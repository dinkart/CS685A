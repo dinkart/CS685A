{
 "cells": [
  {
   "cell_type": "code",
   "execution_count": 1,
   "id": "2bda430a",
   "metadata": {},
   "outputs": [],
   "source": [
    "import requests\n",
    "from bs4 import BeautifulSoup\n",
    "import pandas as pd"
   ]
  },
  {
   "cell_type": "code",
   "execution_count": 2,
   "id": "0b64e338",
   "metadata": {},
   "outputs": [],
   "source": [
    "req = requests.get(\"https://censusindia.gov.in/2011census/C-17.html\")\n",
    "soup = BeautifulSoup(req.content, 'html.parser')\n",
    "allLinks = soup.find_all(\"a\")"
   ]
  },
  {
   "cell_type": "code",
   "execution_count": 3,
   "id": "fe3b7dfc",
   "metadata": {},
   "outputs": [],
   "source": [
    "cols = [\"state-code\", \"area-name\", \"mother-tongue\", \"tot_p_mt\", \"2nd-lang\", \"tot_p_2nd\", \"3rd-lang\", \"tot_p_3rd\"]\n",
    "ouput = {\"region\": [], \"language-1\": [], \"language-2\": [], \"language-3\": []}\n",
    "\n",
    "flag = 1\n",
    "for link in allLinks:\n",
    "    if link['href'].find(\"C-17\") != -1:\n",
    "        if flag:\n",
    "            df = pd.read_excel(\"https://censusindia.gov.in/2011census/\" + link[\"href\"], skiprows = [0,1,2,3,5], names = cols, usecols = [0, 1, 3, 4, 8, 9, 13, 14])\n",
    "            flag = 0\n",
    "            continue\n",
    "        df1 = pd.read_excel(\"https://censusindia.gov.in/2011census/\" + link[\"href\"], skiprows = [0,1,2,3,5], names = cols, usecols = [0, 1, 3, 4, 8, 9, 13, 14])\n",
    "        df = df.append(df1, ignore_index = True)"
   ]
  },
  {
   "cell_type": "code",
   "execution_count": 4,
   "id": "2b2e6e48",
   "metadata": {},
   "outputs": [],
   "source": [
    "df = df[df[\"area-name\"] != \"INDIA\"]"
   ]
  },
  {
   "cell_type": "code",
   "execution_count": 5,
   "id": "a58299a8",
   "metadata": {},
   "outputs": [],
   "source": [
    "north = df[(df['area-name'] == \"JAMMU & KASHMIR\") | (df['area-name'] == \"PUNJAB\") | (df['area-name'] == \"HIMACHAL PRADESH\") | (df['area-name'] == \"HARYANA\") | (df['area-name'] == \"UTTARAKHAND\") | (df['area-name'] == \"NCT OF DELHI\") | (df['area-name'] == \"CHANDIGARH\")]\n",
    "west = df[(df['area-name'] == \"RAJASTHAN\") | (df['area-name'] == \"GUJARAT\") | (df['area-name'] == \"MAHARASHTRA\") | (df['area-name'] == \"GOA\") | (df['area-name'] == \"DADRA & NAGAR HAVELI\") | (df['area-name'] == \"DAMAN & DIU\")]\n",
    "central = df[(df['area-name'] == \"MADHYA PRADESH\") | (df['area-name'] == \"UTTAR PRADESH\") | (df['area-name'] == \"CHHATTISGARH\")]\n",
    "east = df[(df['area-name'] == \"BIHAR\") | (df['area-name'] == \"WEST BENGAL\") | (df['area-name'] == \"ODISHA\") | (df['area-name'] == \"JHARKHAND\")]\n",
    "south = df[(df['area-name'] == \"KARNATAKA\") | (df['area-name'] == \"ANDHRA PRADESH\") | (df['area-name'] == \"TAMIL NADU\") | (df['area-name'] == \"KERALA\") | (df['area-name'] == \"LAKSHADWEEP\") | (df['area-name'] == \"PUDUCHERRY\")]\n",
    "north_east = df[(df['area-name'] == \"ASSAM\") | (df['area-name'] == \"SIKKIM\") | (df['area-name'] == \"MEGHALAYA\") | (df['area-name'] == \"TRIPURA\") | (df['area-name'] == \"ARUNACHAL PRADESH\") | (df['area-name'] == \"MANIPUR\") | (df['area-name'] == \"NAGALAND\") | (df['area-name'] == \"MIZORAM\") | (df['area-name'] == \"ANDAMAN & NICOBAR ISLANDS\")]\n",
    "output = {\"region\": [], \"language-1\": [], \"language-2\": [], \"language-3\": []}"
   ]
  },
  {
   "cell_type": "code",
   "execution_count": 6,
   "id": "4077c608",
   "metadata": {},
   "outputs": [],
   "source": [
    "languages = north[\"mother-tongue\"].dropna().unique().tolist()\n",
    "tot_p = []\n",
    "for lang in languages:\n",
    "    v1 = north[\"tot_p_mt\"][north[\"mother-tongue\"] == lang].sum()\n",
    "    v2 = north[\"tot_p_2nd\"][north[\"2nd-lang\"] == lang].sum()\n",
    "    v3 = north[\"tot_p_3rd\"][north[\"3rd-lang\"] == lang].sum()\n",
    "    tot_p.append(v1+v2+v3)\n",
    "dic = {\"lang\": languages, \"population\": tot_p}\n",
    "temp = pd.DataFrame(dic).sort_values(by=['population'], ascending=False, ignore_index = True)\n",
    "output[\"region\"].append(\"North\")\n",
    "output[\"language-1\"].append(temp[\"lang\"][0])\n",
    "output[\"language-2\"].append(temp[\"lang\"][1])\n",
    "output[\"language-3\"].append(temp[\"lang\"][2])"
   ]
  },
  {
   "cell_type": "code",
   "execution_count": 7,
   "id": "9f66bdf2",
   "metadata": {},
   "outputs": [],
   "source": [
    "languages = south[\"mother-tongue\"].dropna().unique().tolist()\n",
    "tot_p = []\n",
    "for lang in languages:\n",
    "    v1 = south[\"tot_p_mt\"][south[\"mother-tongue\"] == lang].sum()\n",
    "    v2 = south[\"tot_p_2nd\"][south[\"2nd-lang\"] == lang].sum()\n",
    "    v3 = south[\"tot_p_3rd\"][south[\"3rd-lang\"] == lang].sum()\n",
    "    tot_p.append(v1+v2+v3)\n",
    "dic = {\"lang\": languages, \"population\": tot_p}\n",
    "temp = pd.DataFrame(dic).sort_values(by=['population'], ascending=False, ignore_index = True)\n",
    "output[\"region\"].append(\"South\")\n",
    "output[\"language-1\"].append(temp[\"lang\"][0])\n",
    "output[\"language-2\"].append(temp[\"lang\"][1])\n",
    "output[\"language-3\"].append(temp[\"lang\"][2])"
   ]
  },
  {
   "cell_type": "code",
   "execution_count": 8,
   "id": "4eb9923d",
   "metadata": {},
   "outputs": [],
   "source": [
    "languages = east[\"mother-tongue\"].dropna().unique().tolist()\n",
    "tot_p = []\n",
    "for lang in languages:\n",
    "    v1 = east[\"tot_p_mt\"][east[\"mother-tongue\"] == lang].sum()\n",
    "    v2 = east[\"tot_p_2nd\"][east[\"2nd-lang\"] == lang].sum()\n",
    "    v3 = east[\"tot_p_3rd\"][east[\"3rd-lang\"] == lang].sum()\n",
    "    tot_p.append(v1+v2+v3)\n",
    "dic = {\"lang\": languages, \"population\": tot_p}\n",
    "temp = pd.DataFrame(dic).sort_values(by=['population'], ascending=False, ignore_index = True)\n",
    "output[\"region\"].append(\"East\")\n",
    "output[\"language-1\"].append(temp[\"lang\"][0])\n",
    "output[\"language-2\"].append(temp[\"lang\"][1])\n",
    "output[\"language-3\"].append(temp[\"lang\"][2])"
   ]
  },
  {
   "cell_type": "code",
   "execution_count": 9,
   "id": "71f01d00",
   "metadata": {},
   "outputs": [],
   "source": [
    "languages = west[\"mother-tongue\"].dropna().unique().tolist()\n",
    "tot_p = []\n",
    "for lang in languages:\n",
    "    v1 = west[\"tot_p_mt\"][west[\"mother-tongue\"] == lang].sum()\n",
    "    v2 = west[\"tot_p_2nd\"][west[\"2nd-lang\"] == lang].sum()\n",
    "    v3 = west[\"tot_p_3rd\"][west[\"3rd-lang\"] == lang].sum()\n",
    "    tot_p.append(v1+v2+v3)\n",
    "dic = {\"lang\": languages, \"population\": tot_p}\n",
    "temp = pd.DataFrame(dic).sort_values(by=['population'], ascending=False, ignore_index = True)\n",
    "output[\"region\"].append(\"West\")\n",
    "output[\"language-1\"].append(temp[\"lang\"][0])\n",
    "output[\"language-2\"].append(temp[\"lang\"][1])\n",
    "output[\"language-3\"].append(temp[\"lang\"][2])"
   ]
  },
  {
   "cell_type": "code",
   "execution_count": 10,
   "id": "1d84d2e7",
   "metadata": {},
   "outputs": [],
   "source": [
    "languages = central[\"mother-tongue\"].dropna().unique().tolist()\n",
    "tot_p = []\n",
    "for lang in languages:\n",
    "    v1 = central[\"tot_p_mt\"][central[\"mother-tongue\"] == lang].sum()\n",
    "    v2 = central[\"tot_p_2nd\"][central[\"2nd-lang\"] == lang].sum()\n",
    "    v3 = central[\"tot_p_3rd\"][central[\"3rd-lang\"] == lang].sum()\n",
    "    tot_p.append(v1+v2+v3)\n",
    "dic = {\"lang\": languages, \"population\": tot_p}\n",
    "temp = pd.DataFrame(dic).sort_values(by=['population'], ascending=False, ignore_index = True)\n",
    "output[\"region\"].append(\"Central\")\n",
    "output[\"language-1\"].append(temp[\"lang\"][0])\n",
    "output[\"language-2\"].append(temp[\"lang\"][1])\n",
    "output[\"language-3\"].append(temp[\"lang\"][2])"
   ]
  },
  {
   "cell_type": "code",
   "execution_count": 11,
   "id": "4321588a",
   "metadata": {},
   "outputs": [],
   "source": [
    "languages = north_east[\"mother-tongue\"].dropna().unique().tolist()\n",
    "tot_p = []\n",
    "for lang in languages:\n",
    "    v1 = north_east[\"tot_p_mt\"][north_east[\"mother-tongue\"] == lang].sum()\n",
    "    v2 = north_east[\"tot_p_2nd\"][north_east[\"2nd-lang\"] == lang].sum()\n",
    "    v3 = north_east[\"tot_p_3rd\"][north_east[\"3rd-lang\"] == lang].sum()\n",
    "    tot_p.append(v1+v2+v3)\n",
    "dic = {\"lang\": languages, \"population\": tot_p}\n",
    "temp = pd.DataFrame(dic).sort_values(by=['population'], ascending=False, ignore_index = True)\n",
    "output[\"region\"].append(\"North East\")\n",
    "output[\"language-1\"].append(temp[\"lang\"][0])\n",
    "output[\"language-2\"].append(temp[\"lang\"][1])\n",
    "output[\"language-3\"].append(temp[\"lang\"][2])"
   ]
  },
  {
   "cell_type": "code",
   "execution_count": 14,
   "id": "08e144f5",
   "metadata": {},
   "outputs": [],
   "source": [
    "df = pd.DataFrame(output).sort_values(by = ['region'], ignore_index = True)\n",
    "df.to_csv(\"../Final Outputs/region-india-b.csv\", index = False)"
   ]
  },
  {
   "cell_type": "code",
   "execution_count": 15,
   "id": "8c03e4ee",
   "metadata": {},
   "outputs": [
    {
     "data": {
      "text/html": [
       "<div>\n",
       "<style scoped>\n",
       "    .dataframe tbody tr th:only-of-type {\n",
       "        vertical-align: middle;\n",
       "    }\n",
       "\n",
       "    .dataframe tbody tr th {\n",
       "        vertical-align: top;\n",
       "    }\n",
       "\n",
       "    .dataframe thead th {\n",
       "        text-align: right;\n",
       "    }\n",
       "</style>\n",
       "<table border=\"1\" class=\"dataframe\">\n",
       "  <thead>\n",
       "    <tr style=\"text-align: right;\">\n",
       "      <th></th>\n",
       "      <th>region</th>\n",
       "      <th>language-1</th>\n",
       "      <th>language-2</th>\n",
       "      <th>language-3</th>\n",
       "    </tr>\n",
       "  </thead>\n",
       "  <tbody>\n",
       "    <tr>\n",
       "      <th>0</th>\n",
       "      <td>Central</td>\n",
       "      <td>HINDI</td>\n",
       "      <td>ENGLISH</td>\n",
       "      <td>URDU</td>\n",
       "    </tr>\n",
       "    <tr>\n",
       "      <th>1</th>\n",
       "      <td>East</td>\n",
       "      <td>HINDI</td>\n",
       "      <td>BENGALI</td>\n",
       "      <td>ODIA</td>\n",
       "    </tr>\n",
       "    <tr>\n",
       "      <th>2</th>\n",
       "      <td>North</td>\n",
       "      <td>HINDI</td>\n",
       "      <td>PUNJABI</td>\n",
       "      <td>ENGLISH</td>\n",
       "    </tr>\n",
       "    <tr>\n",
       "      <th>3</th>\n",
       "      <td>North East</td>\n",
       "      <td>ASSAMESE</td>\n",
       "      <td>BENGALI</td>\n",
       "      <td>HINDI</td>\n",
       "    </tr>\n",
       "    <tr>\n",
       "      <th>4</th>\n",
       "      <td>South</td>\n",
       "      <td>TELUGU</td>\n",
       "      <td>TAMIL</td>\n",
       "      <td>KANNADA</td>\n",
       "    </tr>\n",
       "    <tr>\n",
       "      <th>5</th>\n",
       "      <td>West</td>\n",
       "      <td>HINDI</td>\n",
       "      <td>MARATHI</td>\n",
       "      <td>GUJARATI</td>\n",
       "    </tr>\n",
       "  </tbody>\n",
       "</table>\n",
       "</div>"
      ],
      "text/plain": [
       "       region language-1 language-2 language-3\n",
       "0     Central     HINDI    ENGLISH        URDU\n",
       "1        East     HINDI    BENGALI       ODIA \n",
       "2       North     HINDI    PUNJABI    ENGLISH \n",
       "3  North East   ASSAMESE   BENGALI      HINDI \n",
       "4       South    TELUGU      TAMIL     KANNADA\n",
       "5        West     HINDI    MARATHI    GUJARATI"
      ]
     },
     "execution_count": 15,
     "metadata": {},
     "output_type": "execute_result"
    }
   ],
   "source": [
    "df"
   ]
  },
  {
   "cell_type": "code",
   "execution_count": null,
   "id": "7add6abf",
   "metadata": {},
   "outputs": [],
   "source": []
  }
 ],
 "metadata": {
  "kernelspec": {
   "display_name": "Python 3 (ipykernel)",
   "language": "python",
   "name": "python3"
  },
  "language_info": {
   "codemirror_mode": {
    "name": "ipython",
    "version": 3
   },
   "file_extension": ".py",
   "mimetype": "text/x-python",
   "name": "python",
   "nbconvert_exporter": "python",
   "pygments_lexer": "ipython3",
   "version": "3.9.6"
  }
 },
 "nbformat": 4,
 "nbformat_minor": 5
}
