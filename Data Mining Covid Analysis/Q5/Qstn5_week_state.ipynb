{
 "cells": [
  {
   "cell_type": "code",
   "execution_count": 1,
   "id": "6dfbd2ba",
   "metadata": {},
   "outputs": [],
   "source": [
    "import pandas as pd\n",
    "import datetime"
   ]
  },
  {
   "cell_type": "code",
   "execution_count": 2,
   "id": "c70192e6",
   "metadata": {},
   "outputs": [],
   "source": [
    "df = pd.read_csv(\"../Data/cowin_vaccine_data_districtwise.csv\", skiprows = [1])\n",
    "df = df.fillna(0)\n",
    "df = df.groupby(['State_Code'], as_index=False).agg('sum')"
   ]
  },
  {
   "cell_type": "code",
   "execution_count": 3,
   "id": "eb1ea076",
   "metadata": {},
   "outputs": [],
   "source": [
    "sdate = datetime.datetime(2021, 1, 16)\n",
    "edate = datetime.datetime(2021, 8, 15)\n",
    "weekly = {\"stateid\" : [], \"weekid\" : [], \"dose1\" : [], \"dose2\" : []}\n",
    "week = 1"
   ]
  },
  {
   "cell_type": "code",
   "execution_count": 4,
   "id": "1fa6ec1d",
   "metadata": {},
   "outputs": [],
   "source": [
    "while sdate < edate:\n",
    "    for idx, row in df.iterrows():\n",
    "        weekly[\"stateid\"].append(row[\"State_Code\"])\n",
    "        weekly[\"weekid\"].append(week)\n",
    "        weekly[\"dose1\"].append(row[sdate.strftime(\"%d-%m-%Y.3\")])\n",
    "        weekly[\"dose2\"].append(row[sdate.strftime(\"%d-%m-%Y.4\")])\n",
    "    sdate += datetime.timedelta(days=7)\n",
    "    week += 1"
   ]
  },
  {
   "cell_type": "code",
   "execution_count": 5,
   "id": "07731826",
   "metadata": {},
   "outputs": [],
   "source": [
    "df1 = pd.DataFrame(weekly)\n",
    "df1.sort_values(['stateid', 'weekid'], inplace = True)"
   ]
  },
  {
   "cell_type": "code",
   "execution_count": 6,
   "id": "e0af1c0f",
   "metadata": {},
   "outputs": [],
   "source": [
    "df1.to_csv(\"../Final Outputs/state-vaccinated-count-week.csv\", index = False)"
   ]
  },
  {
   "cell_type": "code",
   "execution_count": null,
   "id": "f4982547",
   "metadata": {},
   "outputs": [],
   "source": []
  }
 ],
 "metadata": {
  "kernelspec": {
   "display_name": "Python 3 (ipykernel)",
   "language": "python",
   "name": "python3"
  },
  "language_info": {
   "codemirror_mode": {
    "name": "ipython",
    "version": 3
   },
   "file_extension": ".py",
   "mimetype": "text/x-python",
   "name": "python",
   "nbconvert_exporter": "python",
   "pygments_lexer": "ipython3",
   "version": "3.9.6"
  }
 },
 "nbformat": 4,
 "nbformat_minor": 5
}
