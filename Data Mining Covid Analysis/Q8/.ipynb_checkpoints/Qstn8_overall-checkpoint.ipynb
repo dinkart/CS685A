{
 "cells": [
  {
   "cell_type": "code",
   "execution_count": 1,
   "id": "64417d66",
   "metadata": {},
   "outputs": [],
   "source": [
    "import pandas as pd"
   ]
  },
  {
   "cell_type": "code",
   "execution_count": 2,
   "id": "f97a412b",
   "metadata": {},
   "outputs": [],
   "source": [
    "df1 = pd.read_excel(\"../Data/DDW_PCA0000_2011_Indiastatedist.xlsx\", sheet_name='Sheet1', usecols = ['State', 'Level', 'Name', 'TRU', 'TOT_P', 'TOT_M', 'TOT_F'])\n",
    "df1 = df1[df1[\"TRU\"] == \"Total\"]\n",
    "df1 = df1[df1[\"Level\"] == \"India\"]"
   ]
  },
  {
   "cell_type": "code",
   "execution_count": 3,
   "id": "af86b1e7",
   "metadata": {},
   "outputs": [],
   "source": [
    "df2 = pd.read_csv(\"../Data/cowin_vaccine_data_districtwise.csv\", skiprows = [1])\n",
    "df2 = df2.fillna(0)\n",
    "df2 = df2.groupby(['State_Code', 'State', 'District_Key', 'District'], as_index=False).agg('sum')"
   ]
  },
  {
   "cell_type": "code",
   "execution_count": 7,
   "id": "9dee1beb",
   "metadata": {},
   "outputs": [],
   "source": [
    "overall = {\"id\" : [\"Ind\"], \"vaccinateddose1ratio\" : [], \"vaccinateddose2ratio\" : []}\n",
    "\n",
    "d1 = list(df2[\"14-08-2021.3\"].astype('category').values)\n",
    "d2 = list(df2[\"14-08-2021.4\"].astype('category').values)\n",
    "\n",
    "n = df1[\"TOT_P\"][0]\n",
    "\n",
    "overall[\"vaccinateddose1ratio\"].append(sum(d1)/n)\n",
    "overall[\"vaccinateddose2ratio\"].append(sum(d2)/n)"
   ]
  },
  {
   "cell_type": "code",
   "execution_count": 9,
   "id": "614c5f63",
   "metadata": {},
   "outputs": [],
   "source": [
    "df = pd.DataFrame(overall)\n",
    "df.to_csv(\"../Final Outputs/vaccinated-dose-ratio-overall.csv\", index = False)"
   ]
  },
  {
   "cell_type": "code",
   "execution_count": null,
   "id": "7bf3c012",
   "metadata": {},
   "outputs": [],
   "source": []
  }
 ],
 "metadata": {
  "kernelspec": {
   "display_name": "Python 3 (ipykernel)",
   "language": "python",
   "name": "python3"
  },
  "language_info": {
   "codemirror_mode": {
    "name": "ipython",
    "version": 3
   },
   "file_extension": ".py",
   "mimetype": "text/x-python",
   "name": "python",
   "nbconvert_exporter": "python",
   "pygments_lexer": "ipython3",
   "version": "3.9.6"
  }
 },
 "nbformat": 4,
 "nbformat_minor": 5
}
