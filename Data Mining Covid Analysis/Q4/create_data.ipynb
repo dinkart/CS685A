{
 "cells": [
  {
   "cell_type": "markdown",
   "id": "a16756f2",
   "metadata": {},
   "source": [
    "#  Take the common districts of district.csv and cowin_vaccine_data_districtwise.csv"
   ]
  },
  {
   "cell_type": "code",
   "execution_count": 1,
   "id": "9218172b",
   "metadata": {},
   "outputs": [],
   "source": [
    "import pandas as pd\n",
    "import pandasql as ps"
   ]
  },
  {
   "cell_type": "code",
   "execution_count": 2,
   "id": "6c5aadaa",
   "metadata": {},
   "outputs": [],
   "source": [
    "df1 = pd.read_csv(\"../Data/districts.csv\", parse_dates=['Date'])\n",
    "df2 = pd.read_csv(\"../Data/cowin_vaccine_data_districtwise.csv\", skiprows=[1], usecols = ['State_Code', 'State', 'District_Key', 'District'])\n",
    "df2 = df2.groupby(['State_Code', 'State', 'District_Key', 'District'], as_index=False).agg('sum')"
   ]
  },
  {
   "cell_type": "code",
   "execution_count": 3,
   "id": "83d3fd63",
   "metadata": {},
   "outputs": [],
   "source": [
    "temp = ps.sqldf(\"select distinct District_Key, df1.State, df1.district, df2.State_Code from df1, df2 where df1.District = df2.District\")\n",
    "temp.sort_values('District_Key', inplace = True)\n",
    "df1 = pd.merge(df1, temp, on=['State', 'District'], how='inner')\n",
    "df1.sort_values('District_Key', inplace = True)"
   ]
  },
  {
   "cell_type": "code",
   "execution_count": 4,
   "id": "0ddc2c52",
   "metadata": {},
   "outputs": [],
   "source": [
    "df1.to_csv(\"district_new.csv\", index = False)"
   ]
  },
  {
   "cell_type": "code",
   "execution_count": null,
   "id": "e9b3e1bd",
   "metadata": {},
   "outputs": [],
   "source": []
  }
 ],
 "metadata": {
  "kernelspec": {
   "display_name": "Python 3 (ipykernel)",
   "language": "python",
   "name": "python3"
  },
  "language_info": {
   "codemirror_mode": {
    "name": "ipython",
    "version": 3
   },
   "file_extension": ".py",
   "mimetype": "text/x-python",
   "name": "python",
   "nbconvert_exporter": "python",
   "pygments_lexer": "ipython3",
   "version": "3.9.6"
  }
 },
 "nbformat": 4,
 "nbformat_minor": 5
}
