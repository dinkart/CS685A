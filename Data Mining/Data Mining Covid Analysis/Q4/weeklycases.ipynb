{
 "cells": [
  {
   "cell_type": "markdown",
   "id": "3020633a",
   "metadata": {},
   "source": [
    "# Create weekly cases data"
   ]
  },
  {
   "cell_type": "code",
   "execution_count": 1,
   "id": "16e9e9e6",
   "metadata": {},
   "outputs": [],
   "source": [
    "import pandas as pd\n",
    "import datetime"
   ]
  },
  {
   "cell_type": "code",
   "execution_count": 2,
   "id": "3ac92248",
   "metadata": {},
   "outputs": [],
   "source": [
    "df1 = pd.read_csv(\"district_new.csv\", parse_dates=['Date'])"
   ]
  },
  {
   "cell_type": "code",
   "execution_count": 3,
   "id": "7806a992",
   "metadata": {},
   "outputs": [],
   "source": [
    "dis_weekly = {\"districtid\" : [], \"weekid\" : [], \"cases\": []}\n",
    "state_weekly = {\"stateid\" : [], \"weekid\" : [], \"cases\": []}\n",
    "overall_weekly = {\"id\" : [], \"weekid\" : [], \"cases\": []}"
   ]
  },
  {
   "cell_type": "code",
   "execution_count": 4,
   "id": "fd4df650",
   "metadata": {},
   "outputs": [],
   "source": [
    "nxtweek = 'wed'\n",
    "for item in list(df1[\"District_Key\"].unique()):\n",
    "    sdate = datetime.datetime(2020, 3, 21)    #End of first week\n",
    "    edate = datetime.datetime(2021, 8, 15)\n",
    "    tdf = df1[df1[\"District_Key\"] == item]\n",
    "    weekid = 1\n",
    "    n1 = 0\n",
    "    while sdate < edate:\n",
    "        dis_weekly[\"districtid\"].append(item)\n",
    "        dis_weekly[\"weekid\"].append(weekid)\n",
    "        if sdate not in list(tdf[\"Date\"]):\n",
    "            n2 = 0\n",
    "            dis_weekly[\"cases\"].append(n2)\n",
    "        else:\n",
    "            n2 = tdf[tdf['Date'] == sdate]['Confirmed'].astype('category').values[0]\n",
    "            cases = n2 - n1\n",
    "            dis_weekly[\"cases\"].append(cases)\n",
    "        n1 = n2\n",
    "        weekid += 1\n",
    "        if nxtweek == 'wed':\n",
    "            sdate += datetime.timedelta(days=4)\n",
    "            nxtweek = 'sat'\n",
    "        else:\n",
    "            sdate += datetime.timedelta(days=3)\n",
    "            nxtweek = 'wed'"
   ]
  },
  {
   "cell_type": "code",
   "execution_count": 5,
   "id": "1f6f28b5",
   "metadata": {},
   "outputs": [],
   "source": [
    "nxtweek = 'wed'\n",
    "for item in list(df1[\"State_Code\"].unique()):\n",
    "    sdate = datetime.datetime(2020, 3, 21)    #End of first week\n",
    "    edate = datetime.datetime(2021, 8, 15)\n",
    "    tdf = df1[df1[\"State_Code\"] == item]\n",
    "    weekid = 1\n",
    "    n1 = 0\n",
    "    while sdate < edate:\n",
    "        state_weekly[\"stateid\"].append(item)\n",
    "        state_weekly[\"weekid\"].append(weekid)\n",
    "        if sdate not in list(tdf[\"Date\"]):\n",
    "            n2 = 0\n",
    "            state_weekly[\"cases\"].append(n2)\n",
    "        else:\n",
    "            n2 = list(tdf[tdf['Date'] == sdate]['Confirmed'].astype('category').values)\n",
    "            n2 = sum(n2)\n",
    "            cases = n2 - n1\n",
    "            state_weekly[\"cases\"].append(cases)\n",
    "        n1 = n2\n",
    "        weekid += 1\n",
    "        if nxtweek == 'wed':\n",
    "            sdate += datetime.timedelta(days=4)\n",
    "            nxtweek = 'sat'\n",
    "        else:\n",
    "            sdate += datetime.timedelta(days=3)\n",
    "            nxtweek = 'wed'"
   ]
  },
  {
   "cell_type": "code",
   "execution_count": 6,
   "id": "cd279b88",
   "metadata": {},
   "outputs": [],
   "source": [
    "nxtweek = 'wed'\n",
    "sdate = datetime.datetime(2020, 3, 21)    #End of first week\n",
    "edate = datetime.datetime(2021, 8, 15)\n",
    "weekid = 1\n",
    "n1 = 0\n",
    "while sdate < edate:\n",
    "    overall_weekly[\"id\"].append(\"Ind\")\n",
    "    overall_weekly[\"weekid\"].append(weekid)\n",
    "    if sdate not in list(df1[\"Date\"]):\n",
    "        n2 = 0\n",
    "        overall_weekly[\"cases\"].append(n2)\n",
    "    else:\n",
    "        n2 = list(df1[df1['Date'] == sdate]['Confirmed'].astype('category').values)\n",
    "        n2 = sum(n2)\n",
    "        cases = n2 - n1\n",
    "        overall_weekly[\"cases\"].append(cases)\n",
    "    n1 = n2\n",
    "    weekid += 1\n",
    "    if nxtweek == 'wed':\n",
    "        sdate += datetime.timedelta(days=4)\n",
    "        nxtweek = 'sat'\n",
    "    else:\n",
    "        sdate += datetime.timedelta(days=3)\n",
    "        nxtweek = 'wed'"
   ]
  },
  {
   "cell_type": "code",
   "execution_count": 7,
   "id": "aa17e5b6",
   "metadata": {},
   "outputs": [],
   "source": [
    "df = pd.DataFrame(dis_weekly)\n",
    "df.to_csv(\"dis-cases-week.csv\", index = False)"
   ]
  },
  {
   "cell_type": "code",
   "execution_count": 8,
   "id": "f6bc0a3a",
   "metadata": {},
   "outputs": [],
   "source": [
    "df = pd.DataFrame(state_weekly)\n",
    "df.to_csv(\"state-cases-week.csv\", index = False)"
   ]
  },
  {
   "cell_type": "code",
   "execution_count": 9,
   "id": "e216d82b",
   "metadata": {},
   "outputs": [],
   "source": [
    "df = pd.DataFrame(overall_weekly)\n",
    "df.to_csv(\"overall-cases-week.csv\", index = False)"
   ]
  },
  {
   "cell_type": "code",
   "execution_count": null,
   "id": "346319ec",
   "metadata": {},
   "outputs": [],
   "source": []
  }
 ],
 "metadata": {
  "kernelspec": {
   "display_name": "Python 3 (ipykernel)",
   "language": "python",
   "name": "python3"
  },
  "language_info": {
   "codemirror_mode": {
    "name": "ipython",
    "version": 3
   },
   "file_extension": ".py",
   "mimetype": "text/x-python",
   "name": "python",
   "nbconvert_exporter": "python",
   "pygments_lexer": "ipython3",
   "version": "3.9.6"
  }
 },
 "nbformat": 4,
 "nbformat_minor": 5
}
