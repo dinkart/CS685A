{
 "cells": [
  {
   "cell_type": "code",
   "execution_count": 1,
   "id": "4c64a58a",
   "metadata": {},
   "outputs": [],
   "source": [
    "import pandas as pd"
   ]
  },
  {
   "cell_type": "code",
   "execution_count": 2,
   "id": "6aeb376b",
   "metadata": {},
   "outputs": [],
   "source": [
    "df1 = pd.read_csv(\"dis-cases-week.csv\")\n",
    "df2 = pd.read_csv(\"dis-cases-month.csv\")"
   ]
  },
  {
   "cell_type": "code",
   "execution_count": 3,
   "id": "aef44ff6",
   "metadata": {},
   "outputs": [],
   "source": [
    "peaks = {\"districtid\" : [], \"wave1-weekid\" : [], \"wave2-weekid\" : [], \"wave1-monthid\" : [], \"wave2-monthid\" : []}\n",
    "week_wave1 = (0,80)\n",
    "week_wave2 = (100,147)\n",
    "month_wave1 = (0, 10)\n",
    "month_wave2 = (11, 16)"
   ]
  },
  {
   "cell_type": "code",
   "execution_count": 4,
   "id": "2540d4a2",
   "metadata": {},
   "outputs": [],
   "source": [
    "for item in list(df1[\"districtid\"].unique()):\n",
    "    peaks[\"districtid\"].append(item)\n",
    "    \n",
    "    temp = df1[(df1[\"weekid\"] > week_wave1[0]) & (df1[\"weekid\"] < week_wave1[1]) & (df1[\"districtid\"] == item)]\n",
    "    maxCases = temp[\"cases\"].max()\n",
    "    peaks[\"wave1-weekid\"].append(temp[temp[\"cases\"] == maxCases][\"weekid\"].astype('category').values[0])\n",
    "    \n",
    "    temp = df1[(df1[\"weekid\"] > week_wave2[0]) & (df1[\"weekid\"] < week_wave2[1]) & (df1[\"districtid\"] == item)]\n",
    "    maxCases = temp[\"cases\"].max()\n",
    "    peaks[\"wave2-weekid\"].append(temp[temp[\"cases\"] == maxCases][\"weekid\"].astype('category').values[0])\n",
    "    \n",
    "    temp = df2[(df2[\"monthid\"] > month_wave1[0]) & (df2[\"monthid\"] < month_wave1[1]) & (df2[\"districtid\"] == item)]\n",
    "    maxCases = temp[\"cases\"].max()\n",
    "    peaks[\"wave1-monthid\"].append(temp[temp[\"cases\"] == maxCases][\"monthid\"].astype('category').values[0])\n",
    "    \n",
    "    temp = df2[(df2[\"monthid\"] > month_wave2[0]) & (df2[\"monthid\"] < month_wave2[1]) & (df2[\"districtid\"] == item)]\n",
    "    maxCases = temp[\"cases\"].max()\n",
    "    peaks[\"wave2-monthid\"].append(temp[temp[\"cases\"] == maxCases][\"monthid\"].astype('category').values[0])"
   ]
  },
  {
   "cell_type": "code",
   "execution_count": 5,
   "id": "cfa66e9f",
   "metadata": {},
   "outputs": [],
   "source": [
    "df = pd.DataFrame(peaks)\n",
    "df.to_csv(\"../Final Outputs/peaks-dist.csv\", index = False)"
   ]
  },
  {
   "cell_type": "code",
   "execution_count": null,
   "id": "dd80fcbb",
   "metadata": {},
   "outputs": [],
   "source": []
  }
 ],
 "metadata": {
  "kernelspec": {
   "display_name": "Python 3 (ipykernel)",
   "language": "python",
   "name": "python3"
  },
  "language_info": {
   "codemirror_mode": {
    "name": "ipython",
    "version": 3
   },
   "file_extension": ".py",
   "mimetype": "text/x-python",
   "name": "python",
   "nbconvert_exporter": "python",
   "pygments_lexer": "ipython3",
   "version": "3.9.6"
  }
 },
 "nbformat": 4,
 "nbformat_minor": 5
}
