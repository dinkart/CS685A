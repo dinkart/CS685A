{
 "cells": [
  {
   "cell_type": "code",
   "execution_count": 1,
   "id": "0d1566dc",
   "metadata": {},
   "outputs": [],
   "source": [
    "import pandas as pd\n",
    "import numpy as np"
   ]
  },
  {
   "cell_type": "code",
   "execution_count": 2,
   "id": "3b241387",
   "metadata": {},
   "outputs": [],
   "source": [
    "df = pd.read_csv(\"../Data/cowin_vaccine_data_districtwise.csv\", skiprows = [1])\n",
    "df = df.fillna(0)\n",
    "df = df.groupby(['State_Code', 'State', 'District_Key', 'District'], as_index=False).agg('sum')"
   ]
  },
  {
   "cell_type": "code",
   "execution_count": 3,
   "id": "ba290643",
   "metadata": {},
   "outputs": [],
   "source": [
    "vratio = {\"stateid\" : [], \"vaccineratio\" : []}\n",
    "\n",
    "for item in list(df.State_Code.unique()):\n",
    "    vratio[\"stateid\"].append(item)\n",
    "    \n",
    "    n1 = list(df[df[\"State_Code\"] == item][\"14-08-2021.9\"].astype('category').values)\n",
    "    n2 = list(df[df[\"State_Code\"] == item][\"14-08-2021.8\"].astype('category').values)\n",
    "    \n",
    "    try :\n",
    "        vratio[\"vaccineratio\"].append(sum(n1)/sum(n2))\n",
    "    except ZeroDivisionError:\n",
    "        vratio[\"vaccineratio\"].append(-1)\n",
    "    "
   ]
  },
  {
   "cell_type": "code",
   "execution_count": 4,
   "id": "e5a206e4",
   "metadata": {},
   "outputs": [],
   "source": [
    "data = pd.DataFrame(vratio)\n",
    "data.replace(-1, np.nan, inplace = True)"
   ]
  },
  {
   "cell_type": "code",
   "execution_count": 5,
   "id": "dbe9de52",
   "metadata": {},
   "outputs": [],
   "source": [
    "data.to_csv(\"../Final Outputs/vaccine-type-ratio_state.csv\", index = False)"
   ]
  },
  {
   "cell_type": "code",
   "execution_count": null,
   "id": "68b08c85",
   "metadata": {},
   "outputs": [],
   "source": []
  }
 ],
 "metadata": {
  "kernelspec": {
   "display_name": "Python 3 (ipykernel)",
   "language": "python",
   "name": "python3"
  },
  "language_info": {
   "codemirror_mode": {
    "name": "ipython",
    "version": 3
   },
   "file_extension": ".py",
   "mimetype": "text/x-python",
   "name": "python",
   "nbconvert_exporter": "python",
   "pygments_lexer": "ipython3",
   "version": "3.9.6"
  }
 },
 "nbformat": 4,
 "nbformat_minor": 5
}
