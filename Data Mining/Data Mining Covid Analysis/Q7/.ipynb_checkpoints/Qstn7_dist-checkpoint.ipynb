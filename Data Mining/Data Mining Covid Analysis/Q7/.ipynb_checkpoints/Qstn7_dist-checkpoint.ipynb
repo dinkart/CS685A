{
 "cells": [
  {
   "cell_type": "code",
   "execution_count": 30,
   "id": "d3784489",
   "metadata": {},
   "outputs": [],
   "source": [
    "import pandas as pd\n",
    "import numpy as np"
   ]
  },
  {
   "cell_type": "code",
   "execution_count": 31,
   "id": "c9e9aa17",
   "metadata": {},
   "outputs": [],
   "source": [
    "df = pd.read_csv(\"../Data/cowin_vaccine_data_districtwise.csv\", skiprows = [1])\n",
    "df = df.fillna(0)\n",
    "df = df.groupby(['State_Code', 'State', 'District_Key', 'District'], as_index=False).agg('sum')"
   ]
  },
  {
   "cell_type": "code",
   "execution_count": 32,
   "id": "36203eeb",
   "metadata": {},
   "outputs": [],
   "source": [
    "vratio = {\"districtid\" : [], \"vaccineratio\" : []}\n",
    "for idx, row in df.iterrows():\n",
    "    vratio[\"districtid\"].append(row[\"District_Key\"])\n",
    "    n1 = row[\"14-08-2021.9\"]\n",
    "    n2 = row[\"14-08-2021.8\"]\n",
    "    try :\n",
    "        vratio[\"vaccineratio\"].append(n1/n2)\n",
    "    except ZeroDivisionError:\n",
    "        vratio[\"vaccineratio\"].append(0)"
   ]
  },
  {
   "cell_type": "code",
   "execution_count": 33,
   "id": "e5688063",
   "metadata": {},
   "outputs": [],
   "source": [
    "data = pd.DataFrame(vratio)\n",
    "data.replace(0, np.nan, inplace = True)"
   ]
  },
  {
   "cell_type": "code",
   "execution_count": 41,
   "id": "9c085d4e",
   "metadata": {},
   "outputs": [],
   "source": [
    "data.to_csv(\"../Final Outputs/vaccine-type-ratio_dist.csv\", index = False)"
   ]
  },
  {
   "cell_type": "code",
   "execution_count": null,
   "id": "783bea7b",
   "metadata": {},
   "outputs": [],
   "source": []
  }
 ],
 "metadata": {
  "kernelspec": {
   "display_name": "Python 3 (ipykernel)",
   "language": "python",
   "name": "python3"
  },
  "language_info": {
   "codemirror_mode": {
    "name": "ipython",
    "version": 3
   },
   "file_extension": ".py",
   "mimetype": "text/x-python",
   "name": "python",
   "nbconvert_exporter": "python",
   "pygments_lexer": "ipython3",
   "version": "3.9.6"
  }
 },
 "nbformat": 4,
 "nbformat_minor": 5
}
