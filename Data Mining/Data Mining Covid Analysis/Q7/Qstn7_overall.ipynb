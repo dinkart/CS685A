{
 "cells": [
  {
   "cell_type": "code",
   "execution_count": 1,
   "id": "76ddb0c9",
   "metadata": {},
   "outputs": [],
   "source": [
    "import pandas as pd"
   ]
  },
  {
   "cell_type": "code",
   "execution_count": 2,
   "id": "3f95f462",
   "metadata": {},
   "outputs": [],
   "source": [
    "df = pd.read_csv(\"../Data/cowin_vaccine_data_districtwise.csv\", skiprows = [1])\n",
    "df = df.fillna(0)\n",
    "df = df.groupby(['State_Code', 'State', 'District_Key', 'District'], as_index=False).agg('sum')"
   ]
  },
  {
   "cell_type": "code",
   "execution_count": 4,
   "id": "314ffd74",
   "metadata": {},
   "outputs": [],
   "source": [
    "vratio = {\"countryid\" : [\"Ind\"], \"vaccineratio\" : []}\n",
    "\n",
    "n1 = list(df[\"14-08-2021.9\"].astype('category').values)\n",
    "n2 = list(df[\"14-08-2021.8\"].astype('category').values)\n",
    "\n",
    "vratio[\"vaccineratio\"].append(sum(n1)/sum(n2))"
   ]
  },
  {
   "cell_type": "code",
   "execution_count": 7,
   "id": "c6322a7f",
   "metadata": {},
   "outputs": [],
   "source": [
    "data = pd.DataFrame(vratio)\n",
    "data.to_csv(\"../Final Outputs/vaccine-type-ratio_overall.csv\", index = False)"
   ]
  },
  {
   "cell_type": "code",
   "execution_count": null,
   "id": "4c5f21ba",
   "metadata": {},
   "outputs": [],
   "source": []
  }
 ],
 "metadata": {
  "kernelspec": {
   "display_name": "Python 3 (ipykernel)",
   "language": "python",
   "name": "python3"
  },
  "language_info": {
   "codemirror_mode": {
    "name": "ipython",
    "version": 3
   },
   "file_extension": ".py",
   "mimetype": "text/x-python",
   "name": "python",
   "nbconvert_exporter": "python",
   "pygments_lexer": "ipython3",
   "version": "3.9.6"
  }
 },
 "nbformat": 4,
 "nbformat_minor": 5
}
