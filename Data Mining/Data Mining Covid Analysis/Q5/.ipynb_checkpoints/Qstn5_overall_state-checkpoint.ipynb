{
 "cells": [
  {
   "cell_type": "code",
   "execution_count": 1,
   "id": "5106279e",
   "metadata": {},
   "outputs": [],
   "source": [
    "import pandas as pd\n",
    "import datetime"
   ]
  },
  {
   "cell_type": "code",
   "execution_count": 2,
   "id": "e9256ff1",
   "metadata": {},
   "outputs": [],
   "source": [
    "df = pd.read_csv(\"../Data/cowin_vaccine_data_districtwise.csv\", skiprows = [1])\n",
    "df = df.fillna(0)\n",
    "df = df.groupby(['State_Code'], as_index=False).agg('sum')"
   ]
  },
  {
   "cell_type": "code",
   "execution_count": 3,
   "id": "a0b857b5",
   "metadata": {},
   "outputs": [],
   "source": [
    "date = datetime.datetime(2021, 8, 15)\n",
    "overall = {\"stateid\" : [], \"dose1\" : [], \"dose2\" : []}"
   ]
  },
  {
   "cell_type": "code",
   "execution_count": 4,
   "id": "98950040",
   "metadata": {},
   "outputs": [],
   "source": [
    "for idx, row in df.iterrows():\n",
    "    overall[\"stateid\"].append(row[\"State_Code\"])\n",
    "    overall[\"dose1\"].append(row[date.strftime(\"%d-%m-%Y.3\")])\n",
    "    overall[\"dose2\"].append(row[date.strftime(\"%d-%m-%Y.4\")])"
   ]
  },
  {
   "cell_type": "code",
   "execution_count": 5,
   "id": "a6457d66",
   "metadata": {},
   "outputs": [],
   "source": [
    "df1 = pd.DataFrame(overall)\n",
    "df1.sort_values(['stateid'], inplace = True)"
   ]
  },
  {
   "cell_type": "code",
   "execution_count": 6,
   "id": "401b1fef",
   "metadata": {},
   "outputs": [],
   "source": [
    "df1.to_csv(\"../Final Outputs/state-vaccinated-count-overall.csv\", index = False)"
   ]
  },
  {
   "cell_type": "code",
   "execution_count": null,
   "id": "af85853d",
   "metadata": {},
   "outputs": [],
   "source": []
  }
 ],
 "metadata": {
  "kernelspec": {
   "display_name": "Python 3 (ipykernel)",
   "language": "python",
   "name": "python3"
  },
  "language_info": {
   "codemirror_mode": {
    "name": "ipython",
    "version": 3
   },
   "file_extension": ".py",
   "mimetype": "text/x-python",
   "name": "python",
   "nbconvert_exporter": "python",
   "pygments_lexer": "ipython3",
   "version": "3.9.6"
  }
 },
 "nbformat": 4,
 "nbformat_minor": 5
}
