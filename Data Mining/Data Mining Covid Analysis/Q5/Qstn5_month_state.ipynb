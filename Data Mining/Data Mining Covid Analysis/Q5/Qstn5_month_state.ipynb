{
 "cells": [
  {
   "cell_type": "code",
   "execution_count": 1,
   "id": "b8615c59",
   "metadata": {},
   "outputs": [],
   "source": [
    "import pandas as pd\n",
    "import datetime"
   ]
  },
  {
   "cell_type": "code",
   "execution_count": 2,
   "id": "2af39e43",
   "metadata": {},
   "outputs": [],
   "source": [
    "df = pd.read_csv(\"../Data/cowin_vaccine_data_districtwise.csv\", skiprows = [1])\n",
    "df = df.fillna(0)\n",
    "df = df.groupby(['State_Code'], as_index=False).agg('sum')"
   ]
  },
  {
   "cell_type": "code",
   "execution_count": 3,
   "id": "8e35cc6b",
   "metadata": {},
   "outputs": [],
   "source": [
    "sdate = datetime.datetime(2021, 1, 16)\n",
    "edate = datetime.datetime(2021, 8, 15)\n",
    "monthly = {\"stateid\" : [], \"monthid\" : [], \"dose1\" : [], \"dose2\" : []}\n",
    "month = 1"
   ]
  },
  {
   "cell_type": "code",
   "execution_count": 4,
   "id": "470880e6",
   "metadata": {},
   "outputs": [],
   "source": [
    "def addMonth(date):\n",
    "    day = date.day\n",
    "    year = date.year + date.month // 12\n",
    "    month = date.month % 12 + 1\n",
    "    ndate = datetime.datetime(year, month, day)\n",
    "    return ndate"
   ]
  },
  {
   "cell_type": "code",
   "execution_count": 5,
   "id": "28785007",
   "metadata": {},
   "outputs": [],
   "source": [
    "while sdate < edate:\n",
    "    for idx, row in df.iterrows():\n",
    "        monthly[\"stateid\"].append(row[\"State_Code\"])\n",
    "        monthly[\"monthid\"].append(month)\n",
    "        monthly[\"dose1\"].append(row[sdate.strftime(\"%d-%m-%Y.3\")])\n",
    "        monthly[\"dose2\"].append(row[sdate.strftime(\"%d-%m-%Y.4\")])\n",
    "    sdate = addMonth(sdate)\n",
    "    month += 1"
   ]
  },
  {
   "cell_type": "code",
   "execution_count": 6,
   "id": "181bca99",
   "metadata": {},
   "outputs": [],
   "source": [
    "df1 = pd.DataFrame(monthly)\n",
    "df1.sort_values(['stateid', 'monthid'], inplace = True)"
   ]
  },
  {
   "cell_type": "code",
   "execution_count": 7,
   "id": "dc89b6cc",
   "metadata": {},
   "outputs": [],
   "source": [
    "df1.to_csv(\"../Final Outputs/state-vaccinated-count-month.csv\", index = False)"
   ]
  },
  {
   "cell_type": "code",
   "execution_count": null,
   "id": "10ce4680",
   "metadata": {},
   "outputs": [],
   "source": []
  }
 ],
 "metadata": {
  "kernelspec": {
   "display_name": "Python 3 (ipykernel)",
   "language": "python",
   "name": "python3"
  },
  "language_info": {
   "codemirror_mode": {
    "name": "ipython",
    "version": 3
   },
   "file_extension": ".py",
   "mimetype": "text/x-python",
   "name": "python",
   "nbconvert_exporter": "python",
   "pygments_lexer": "ipython3",
   "version": "3.9.6"
  }
 },
 "nbformat": 4,
 "nbformat_minor": 5
}
