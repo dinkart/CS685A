{
 "cells": [
  {
   "cell_type": "code",
   "execution_count": 1,
   "id": "e0dcfa82",
   "metadata": {},
   "outputs": [],
   "source": [
    "import pandas as pd\n",
    "import json"
   ]
  },
  {
   "cell_type": "code",
   "execution_count": 2,
   "id": "268a5858",
   "metadata": {},
   "outputs": [],
   "source": [
    "jData = open('../Final Outputs/neighbor-districts-modified.json', 'r').read()\n",
    "obj = json.loads(jData)"
   ]
  },
  {
   "cell_type": "code",
   "execution_count": 3,
   "id": "551181d1",
   "metadata": {},
   "outputs": [],
   "source": [
    "edges = {\"(i,j)\" : []}\n",
    "for item1 in obj:\n",
    "    for item2 in obj[item1]:\n",
    "        if (item2,item1) in edges['(i,j)']:\n",
    "            continue\n",
    "        edges['(i,j)'].append((item1, item2))"
   ]
  },
  {
   "cell_type": "code",
   "execution_count": 5,
   "id": "bb0cd671",
   "metadata": {},
   "outputs": [],
   "source": [
    "edges['district1'] = [item[0] for item in edges['(i,j)']]\n",
    "edges['district2'] = [item[1] for item in edges['(i,j)']]"
   ]
  },
  {
   "cell_type": "code",
   "execution_count": 7,
   "id": "44eff863",
   "metadata": {},
   "outputs": [],
   "source": [
    "df = pd.DataFrame(edges)\n",
    "df.drop('(i,j)', inplace=True, axis=1)\n",
    "df.to_csv(\"../Final Outputs/edge-graph.csv\", index = False)"
   ]
  },
  {
   "cell_type": "code",
   "execution_count": null,
   "id": "396e2b3b",
   "metadata": {},
   "outputs": [],
   "source": []
  }
 ],
 "metadata": {
  "kernelspec": {
   "display_name": "Python 3 (ipykernel)",
   "language": "python",
   "name": "python3"
  },
  "language_info": {
   "codemirror_mode": {
    "name": "ipython",
    "version": 3
   },
   "file_extension": ".py",
   "mimetype": "text/x-python",
   "name": "python",
   "nbconvert_exporter": "python",
   "pygments_lexer": "ipython3",
   "version": "3.9.6"
  }
 },
 "nbformat": 4,
 "nbformat_minor": 5
}
