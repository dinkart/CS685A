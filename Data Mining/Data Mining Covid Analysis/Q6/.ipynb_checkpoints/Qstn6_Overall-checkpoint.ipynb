{
 "cells": [
  {
   "cell_type": "code",
   "execution_count": 1,
   "id": "bd9aa381",
   "metadata": {},
   "outputs": [],
   "source": [
    "import pandas as pd"
   ]
  },
  {
   "cell_type": "code",
   "execution_count": 2,
   "id": "eadd7cf1",
   "metadata": {},
   "outputs": [],
   "source": [
    "df1 = pd.read_excel(\"../Data/DDW_PCA0000_2011_Indiastatedist.xlsx\", sheet_name='Sheet1', usecols = ['State', 'Level', 'Name', 'TRU', 'TOT_P', 'TOT_M', 'TOT_F'])\n",
    "df1 = df1[df1[\"TRU\"] == \"Total\"]\n",
    "df1 = df1[df1[\"Level\"] == \"India\"]"
   ]
  },
  {
   "cell_type": "code",
   "execution_count": 3,
   "id": "0f512236",
   "metadata": {},
   "outputs": [],
   "source": [
    "df2 = pd.read_csv(\"../Data/cowin_vaccine_data_districtwise.csv\", skiprows = [1])\n",
    "df2 = df2.fillna(0)\n",
    "df2 = df2.groupby(['State_Code', 'State', 'District_Key', 'District'], as_index=False).agg('sum')"
   ]
  },
  {
   "cell_type": "code",
   "execution_count": 4,
   "id": "2f27ce65",
   "metadata": {},
   "outputs": [],
   "source": [
    "overall = {\"id\" : [], \"vaccinationratio\" : [], \"populationratio\" : [], \"ratioofratios\" : []}\n",
    "overall[\"id\"].append(\"IND\")\n",
    "f = list(df2[\"14-08-2021.6\"].astype('category').values)\n",
    "m = list(df2[\"14-08-2021.5\"].astype('category').values)\n",
    "\n",
    "overall[\"vaccinationratio\"].append(sum(f)/sum(m))\n",
    "\n",
    "pratio = df1[\"TOT_F\"][0] / df1[\"TOT_M\"][0]\n",
    "overall[\"populationratio\"].append(pratio)\n",
    "\n",
    "overall[\"ratioofratios\"].append(overall[\"vaccinationratio\"][0] / overall[\"populationratio\"][0])"
   ]
  },
  {
   "cell_type": "code",
   "execution_count": 5,
   "id": "3d4e00c6",
   "metadata": {},
   "outputs": [],
   "source": [
    "df = pd.DataFrame(overall)"
   ]
  },
  {
   "cell_type": "code",
   "execution_count": 6,
   "id": "61605e11",
   "metadata": {},
   "outputs": [],
   "source": [
    "df.to_csv(\"../Final Outputs/vaccination-population-ratio-overall.csv\", index = False)"
   ]
  },
  {
   "cell_type": "code",
   "execution_count": null,
   "id": "f0045a8a",
   "metadata": {},
   "outputs": [],
   "source": []
  }
 ],
 "metadata": {
  "kernelspec": {
   "display_name": "Python 3 (ipykernel)",
   "language": "python",
   "name": "python3"
  },
  "language_info": {
   "codemirror_mode": {
    "name": "ipython",
    "version": 3
   },
   "file_extension": ".py",
   "mimetype": "text/x-python",
   "name": "python",
   "nbconvert_exporter": "python",
   "pygments_lexer": "ipython3",
   "version": "3.9.6"
  }
 },
 "nbformat": 4,
 "nbformat_minor": 5
}
