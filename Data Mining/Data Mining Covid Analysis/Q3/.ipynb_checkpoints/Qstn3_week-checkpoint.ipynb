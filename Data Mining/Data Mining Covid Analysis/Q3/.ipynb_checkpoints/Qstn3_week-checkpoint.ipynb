{
 "cells": [
  {
   "cell_type": "code",
   "execution_count": 1,
   "id": "f2d71cc3",
   "metadata": {},
   "outputs": [],
   "source": [
    "import pandas as pd\n",
    "import datetime"
   ]
  },
  {
   "cell_type": "code",
   "execution_count": 2,
   "id": "6c687c24",
   "metadata": {},
   "outputs": [],
   "source": [
    "df1 = pd.read_csv(\"district_new.csv\", parse_dates=['Date'])"
   ]
  },
  {
   "cell_type": "code",
   "execution_count": 3,
   "id": "d36ebde5",
   "metadata": {},
   "outputs": [],
   "source": [
    "weekly = {\"districtid\" : [], \"weekid\" : [], \"cases\": []}"
   ]
  },
  {
   "cell_type": "code",
   "execution_count": 4,
   "id": "77bf0219",
   "metadata": {},
   "outputs": [],
   "source": [
    "for item in list(df1[\"District_Key\"].unique()):\n",
    "    sdate = datetime.datetime(2020, 3, 15)\n",
    "    edate = datetime.datetime(2021, 8, 15)\n",
    "    tdf = df1[df1[\"District_Key\"] == item]\n",
    "    weekid = 1\n",
    "    n1 = 0\n",
    "    while sdate < edate:\n",
    "        weekly[\"districtid\"].append(item)\n",
    "        weekly[\"weekid\"].append(weekid)\n",
    "        if sdate not in list(tdf[\"Date\"]):\n",
    "            n2 = 0\n",
    "            weekly[\"cases\"].append(n2)\n",
    "        else:\n",
    "            n2 = tdf[tdf['Date'] == sdate]['Confirmed'].astype('category').values[0]\n",
    "            cases = n2 - n1\n",
    "            weekly[\"cases\"].append(cases)\n",
    "        n1 = n2\n",
    "        weekid += 1\n",
    "        sdate += datetime.timedelta(days=7)"
   ]
  },
  {
   "cell_type": "code",
   "execution_count": 5,
   "id": "64020395",
   "metadata": {},
   "outputs": [],
   "source": [
    "df = pd.DataFrame(weekly)\n",
    "df.to_csv(\"../Final Outputs/cases-week.csv\", index = False)"
   ]
  },
  {
   "cell_type": "code",
   "execution_count": null,
   "id": "514bf8d5",
   "metadata": {},
   "outputs": [],
   "source": []
  }
 ],
 "metadata": {
  "kernelspec": {
   "display_name": "Python 3 (ipykernel)",
   "language": "python",
   "name": "python3"
  },
  "language_info": {
   "codemirror_mode": {
    "name": "ipython",
    "version": 3
   },
   "file_extension": ".py",
   "mimetype": "text/x-python",
   "name": "python",
   "nbconvert_exporter": "python",
   "pygments_lexer": "ipython3",
   "version": "3.9.6"
  }
 },
 "nbformat": 4,
 "nbformat_minor": 5
}
