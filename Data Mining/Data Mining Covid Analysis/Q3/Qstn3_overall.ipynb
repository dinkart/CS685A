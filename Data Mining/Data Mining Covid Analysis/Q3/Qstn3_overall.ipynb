{
 "cells": [
  {
   "cell_type": "code",
   "execution_count": 1,
   "id": "d1918161",
   "metadata": {},
   "outputs": [],
   "source": [
    "import pandas as pd\n",
    "import datetime"
   ]
  },
  {
   "cell_type": "code",
   "execution_count": 2,
   "id": "8cc6347b",
   "metadata": {},
   "outputs": [],
   "source": [
    "df1 = pd.read_csv(\"district_new.csv\", parse_dates=['Date'])"
   ]
  },
  {
   "cell_type": "code",
   "execution_count": 3,
   "id": "a8a604b2",
   "metadata": {},
   "outputs": [],
   "source": [
    "overall = {\"districtid\" : [], \"cases\": []}"
   ]
  },
  {
   "cell_type": "code",
   "execution_count": 4,
   "id": "1dd9db08",
   "metadata": {},
   "outputs": [],
   "source": [
    "for item in list(df1[\"District_Key\"].unique()):\n",
    "    date = datetime.datetime(2021, 8, 14)\n",
    "    tdf = df1[df1[\"District_Key\"] == item]\n",
    "    overall[\"districtid\"].append(item)\n",
    "    overall[\"cases\"].append(tdf[tdf['Date'] == date]['Confirmed'].astype('category').values[0])"
   ]
  },
  {
   "cell_type": "code",
   "execution_count": 5,
   "id": "ddd9edf5",
   "metadata": {},
   "outputs": [],
   "source": [
    "df = pd.DataFrame(overall)\n",
    "df.to_csv(\"../Final Outputs/cases-overall.csv\", index = False)"
   ]
  },
  {
   "cell_type": "code",
   "execution_count": null,
   "id": "e242b441",
   "metadata": {},
   "outputs": [],
   "source": []
  }
 ],
 "metadata": {
  "kernelspec": {
   "display_name": "Python 3 (ipykernel)",
   "language": "python",
   "name": "python3"
  },
  "language_info": {
   "codemirror_mode": {
    "name": "ipython",
    "version": 3
   },
   "file_extension": ".py",
   "mimetype": "text/x-python",
   "name": "python",
   "nbconvert_exporter": "python",
   "pygments_lexer": "ipython3",
   "version": "3.9.6"
  }
 },
 "nbformat": 4,
 "nbformat_minor": 5
}
