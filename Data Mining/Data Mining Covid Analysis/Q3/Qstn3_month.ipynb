{
 "cells": [
  {
   "cell_type": "code",
   "execution_count": 1,
   "id": "c707a2e7",
   "metadata": {},
   "outputs": [],
   "source": [
    "import pandas as pd\n",
    "import datetime"
   ]
  },
  {
   "cell_type": "code",
   "execution_count": 2,
   "id": "30493745",
   "metadata": {},
   "outputs": [],
   "source": [
    "df1 = pd.read_csv(\"district_new.csv\", parse_dates=['Date'])"
   ]
  },
  {
   "cell_type": "code",
   "execution_count": 3,
   "id": "835cf12a",
   "metadata": {},
   "outputs": [],
   "source": [
    "monthly = {\"districtid\" : [], \"monthid\" : [], \"cases\": []}"
   ]
  },
  {
   "cell_type": "code",
   "execution_count": 4,
   "id": "676077a3",
   "metadata": {},
   "outputs": [],
   "source": [
    "def addMonth(date):\n",
    "    day = date.day\n",
    "    year = date.year + date.month // 12\n",
    "    month = date.month % 12 + 1\n",
    "    ndate = datetime.datetime(year, month, day)\n",
    "    return ndate"
   ]
  },
  {
   "cell_type": "code",
   "execution_count": 5,
   "id": "249e50fb",
   "metadata": {},
   "outputs": [],
   "source": [
    "for item in list(df1[\"District_Key\"].unique()):\n",
    "    sdate = datetime.datetime(2020, 4, 15)\n",
    "    edate = datetime.datetime(2021, 8, 15)\n",
    "    tdf = df1[df1[\"District_Key\"] == item]\n",
    "    monthid = 1\n",
    "    n1 = 0\n",
    "    while sdate < edate:\n",
    "        monthly[\"districtid\"].append(item)\n",
    "        monthly[\"monthid\"].append(monthid)\n",
    "        if sdate not in list(tdf[\"Date\"]):\n",
    "            n2 = 0\n",
    "            monthly[\"cases\"].append(n2)\n",
    "        else:\n",
    "            n2 = tdf[tdf['Date'] == sdate]['Confirmed'].astype('category').values[0]\n",
    "            cases = n2 - n1\n",
    "            monthly[\"cases\"].append(cases)\n",
    "        n1 = n2\n",
    "        monthid += 1\n",
    "        sdate = addMonth(sdate)"
   ]
  },
  {
   "cell_type": "code",
   "execution_count": 6,
   "id": "795d6c71",
   "metadata": {},
   "outputs": [],
   "source": [
    "df = pd.DataFrame(monthly)\n",
    "df.to_csv(\"../Final Outputs/cases-month.csv\", index = False)"
   ]
  },
  {
   "cell_type": "code",
   "execution_count": null,
   "id": "a27bd75a",
   "metadata": {},
   "outputs": [],
   "source": []
  }
 ],
 "metadata": {
  "kernelspec": {
   "display_name": "Python 3 (ipykernel)",
   "language": "python",
   "name": "python3"
  },
  "language_info": {
   "codemirror_mode": {
    "name": "ipython",
    "version": 3
   },
   "file_extension": ".py",
   "mimetype": "text/x-python",
   "name": "python",
   "nbconvert_exporter": "python",
   "pygments_lexer": "ipython3",
   "version": "3.9.6"
  }
 },
 "nbformat": 4,
 "nbformat_minor": 5
}
