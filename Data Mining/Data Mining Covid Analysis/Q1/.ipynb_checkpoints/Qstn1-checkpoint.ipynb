{
 "cells": [
  {
   "cell_type": "code",
   "execution_count": 1,
   "id": "99740877",
   "metadata": {},
   "outputs": [],
   "source": [
    "import pandas as pd\n",
    "import json"
   ]
  },
  {
   "cell_type": "code",
   "execution_count": 2,
   "id": "7f0e76d1",
   "metadata": {},
   "outputs": [],
   "source": [
    "df1 = pd.read_csv(\"../Data/cowin_vaccine_data_districtwise.csv\", skiprows=[1])\n",
    "df1 = df1.groupby(['State_Code', 'State', 'District_Key', 'District'], as_index=False).agg('sum')\n",
    "jData = open('neighbor-districts.json', 'r').read()\n",
    "obj = json.loads(jData)"
   ]
  },
  {
   "cell_type": "code",
   "execution_count": 3,
   "id": "78d2eafa",
   "metadata": {},
   "outputs": [],
   "source": [
    "data = {'district_id': [item for item in obj]}            #Dictionary for final output\n",
    "for i in range(12):                                       #To make all list of the dictionary of same size\n",
    "    data[str(i)] = [None for item in obj]\n",
    "for idx, item in enumerate(obj):                          #To add all the neighbours of the districts\n",
    "    l = 0\n",
    "    for itm in obj[item]:\n",
    "        data[str(l)][idx] = itm\n",
    "        l += 1\n",
    "df2 = pd.DataFrame(data)"
   ]
  },
  {
   "cell_type": "code",
   "execution_count": 4,
   "id": "556ec416",
   "metadata": {},
   "outputs": [],
   "source": [
    "def getName(df, idx):                                    #To get the name of the district in the index idx\n",
    "    return df['District_Key'][idx]\n",
    "\n",
    "def getIndex(df, name):                                  #To get the index of the district \"name\" in the dataframe\n",
    "    name = name[:name.find('/')]\n",
    "    return df.index[df['District'].str.lower() == name.lower()].tolist()"
   ]
  },
  {
   "cell_type": "code",
   "execution_count": 5,
   "id": "60c4d88e",
   "metadata": {
    "scrolled": true
   },
   "outputs": [],
   "source": [
    "for item in obj:\n",
    "    idx = getIndex(df1, item)\n",
    "    if len(idx) == 1:\n",
    "        df2.replace(item, getName(df1, idx[0]), inplace = True)\n",
    "    else:\n",
    "        sc = df1['State_Code'][getIndex(df1, obj[item][0])[0]]\n",
    "        if sc == df1[\"State_Code\"][idx[0]]:\n",
    "            df2.replace(item, getName(df1, idx[0]), inplace = True)\n",
    "        else:\n",
    "            df2.replace(item, getName(df1, idx[1]), inplace = True)\n",
    "df2.sort_values('district_id', inplace = True)"
   ]
  },
  {
   "cell_type": "code",
   "execution_count": 6,
   "id": "b7dafda4",
   "metadata": {},
   "outputs": [],
   "source": [
    "newJson = {}\n",
    "for idx, rows in df2.iterrows():\n",
    "    temp_list = []\n",
    "    i = 0\n",
    "    while rows[str(i)] != None:\n",
    "        temp_list.append(rows[str(i)])\n",
    "        i += 1\n",
    "    newJson[rows['district_id']] = temp_list"
   ]
  },
  {
   "cell_type": "code",
   "execution_count": 7,
   "id": "046027a3",
   "metadata": {},
   "outputs": [],
   "source": [
    "with open('../Final Outputs/neighbor-districts-modified.json', 'w') as f:\n",
    "    json.dump(newJson, f, indent = 4)"
   ]
  },
  {
   "cell_type": "code",
   "execution_count": null,
   "id": "a8827a9b",
   "metadata": {},
   "outputs": [],
   "source": []
  }
 ],
 "metadata": {
  "kernelspec": {
   "display_name": "Python 3 (ipykernel)",
   "language": "python",
   "name": "python3"
  },
  "language_info": {
   "codemirror_mode": {
    "name": "ipython",
    "version": 3
   },
   "file_extension": ".py",
   "mimetype": "text/x-python",
   "name": "python",
   "nbconvert_exporter": "python",
   "pygments_lexer": "ipython3",
   "version": "3.9.6"
  }
 },
 "nbformat": 4,
 "nbformat_minor": 5
}
