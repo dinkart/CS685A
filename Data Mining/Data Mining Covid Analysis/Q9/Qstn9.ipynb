{
 "cells": [
  {
   "cell_type": "code",
   "execution_count": 8,
   "id": "0191bfb1",
   "metadata": {},
   "outputs": [],
   "source": [
    "import pandas as pd\n",
    "import datetime"
   ]
  },
  {
   "cell_type": "code",
   "execution_count": 9,
   "id": "75e26123",
   "metadata": {},
   "outputs": [],
   "source": [
    "df1 = pd.read_excel(\"../Data/DDW_PCA0000_2011_Indiastatedist.xlsx\", sheet_name='Sheet1', usecols = ['State', 'Level', 'Name', 'TRU', 'TOT_P', 'TOT_M', 'TOT_F'])\n",
    "df1 = df1[df1[\"TRU\"] == \"Total\"]\n",
    "#Replacing State codes with state names in census data\n",
    "for idx, item in df1[df1[\"Level\"] == \"STATE\"].iterrows():\n",
    "    df1.replace(item[\"State\"], item[\"Name\"], inplace = True)\n",
    "df1 = df1[df1[\"Level\"] == \"STATE\"]\n",
    "df1.reset_index(inplace = True)\n",
    "#Updating State names in census data according to vaccine data\n",
    "df1.replace({'&': 'AND'}, regex=True, inplace = True)\n",
    "df1.replace({'NCT OF DELHI': 'DELHI'}, regex=True, inplace = True)\n",
    "df1.replace({'DAMAN AND DIU': 'Dadra and Nagar Haveli and Daman and Diu'.upper()}, regex=True, inplace = True)\n",
    "df1.replace('DADRA AND NAGAR HAVELI', 'Dadra and Nagar Haveli and Daman and Diu'.upper(), inplace = True)\n",
    "df1 = df1.groupby(['State', 'Level', 'Name'], as_index=False).agg('sum')"
   ]
  },
  {
   "cell_type": "code",
   "execution_count": 10,
   "id": "c1f6558b",
   "metadata": {},
   "outputs": [],
   "source": [
    "df2 = pd.read_csv(\"../Data/cowin_vaccine_data_districtwise.csv\", skiprows = [1])\n",
    "df2 = df2.fillna(0)\n",
    "df2 = df2.groupby(['State_Code', 'State', 'District_Key', 'District'], as_index=False).agg('sum')\n",
    "df2 = df2.apply(lambda x: x.astype(str).str.upper())     #to make every state in uppercase"
   ]
  },
  {
   "cell_type": "code",
   "execution_count": 14,
   "id": "c14edfc6",
   "metadata": {},
   "outputs": [],
   "source": [
    "state = {\"stateid\" : [], \"populationleft\" : [], \"rateofvaccination\" : [], \"date\" : []}\n",
    "\n",
    "for idx, row in df1.iterrows():\n",
    "    edate = datetime.datetime(2021, 8, 14)\n",
    "    lweek = edate - datetime.timedelta(days=7)       #end of the 2nd last week\n",
    "    try:\n",
    "        scode = df2.State_Code[df2[\"State\"] == row[\"Name\"]].astype('category').values[0]\n",
    "        state[\"stateid\"].append(scode)\n",
    "    except IndexError:\n",
    "        continue\n",
    "    \n",
    "    n1 = list(df2[df2[\"State\"] == row[\"Name\"]][edate.strftime(\"%d-%m-%Y.3\")].astype('category').values)\n",
    "    n1 = [int(i) for i in n1]\n",
    "    n1 = sum(n1)                 #total no of people with atleast 1 dose at end of 14-Aug-2021\n",
    "    \n",
    "    n2 = list(df2[df2[\"State\"] == row[\"Name\"]][lweek.strftime(\"%d-%m-%Y.3\")].astype('category').values)\n",
    "    n2 = [int(i) for i in n2]\n",
    "    n2 = sum(n2)                 #total no of people with atleast 1 dose at end of 7-Aug-2021\n",
    "    \n",
    "    pleft = row[\"TOT_P\"] - n1\n",
    "    vacRate = n1 - n2\n",
    "    weeks = -(-pleft // vacRate)      #taking ceil while calculating remaining no of weeks for vaccination completion\n",
    "    date = edate + datetime.timedelta(days=(weeks * 7))\n",
    "    \n",
    "    state[\"populationleft\"].append(pleft)\n",
    "    state[\"rateofvaccination\"].append(vacRate)\n",
    "    state[\"date\"].append(date)\n",
    "    \n",
    "    \n",
    "    "
   ]
  },
  {
   "cell_type": "code",
   "execution_count": 15,
   "id": "ddef7fe4",
   "metadata": {},
   "outputs": [],
   "source": [
    "df = pd.DataFrame(state)\n",
    "df.to_csv(\"../Final Outputs/vaccinated-dose-ratio-state.csv\", index = False)"
   ]
  },
  {
   "cell_type": "code",
   "execution_count": null,
   "id": "7570925e",
   "metadata": {},
   "outputs": [],
   "source": []
  }
 ],
 "metadata": {
  "kernelspec": {
   "display_name": "Python 3 (ipykernel)",
   "language": "python",
   "name": "python3"
  },
  "language_info": {
   "codemirror_mode": {
    "name": "ipython",
    "version": 3
   },
   "file_extension": ".py",
   "mimetype": "text/x-python",
   "name": "python",
   "nbconvert_exporter": "python",
   "pygments_lexer": "ipython3",
   "version": "3.9.6"
  }
 },
 "nbformat": 4,
 "nbformat_minor": 5
}
