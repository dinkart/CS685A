{
 "cells": [
  {
   "cell_type": "code",
   "execution_count": 1,
   "id": "9bd5d949",
   "metadata": {},
   "outputs": [],
   "source": [
    "import pandas as pd"
   ]
  },
  {
   "cell_type": "code",
   "execution_count": 2,
   "id": "e11895ad",
   "metadata": {},
   "outputs": [],
   "source": [
    "df = pd.read_csv(\"../Final Outputs/percent-india.csv\")"
   ]
  },
  {
   "cell_type": "code",
   "execution_count": 3,
   "id": "24a542ca",
   "metadata": {},
   "outputs": [],
   "source": [
    "ratio = []\n",
    "for idx,row in df.iterrows():\n",
    "    ratio.append(row[\"percent-three\"]/row[\"percent-two\"])"
   ]
  },
  {
   "cell_type": "code",
   "execution_count": 4,
   "id": "57eebd3a",
   "metadata": {},
   "outputs": [],
   "source": [
    "df[\"ratio\"] = ratio"
   ]
  },
  {
   "cell_type": "code",
   "execution_count": 5,
   "id": "b172fc2b",
   "metadata": {},
   "outputs": [],
   "source": [
    "larg3_indices = df[\"ratio\"].nlargest(3).index.tolist()\n",
    "output = []\n",
    "for i in larg3_indices:\n",
    "    output.append(df[\"state-code\"][i])"
   ]
  },
  {
   "cell_type": "code",
   "execution_count": 6,
   "id": "c8587d24",
   "metadata": {},
   "outputs": [],
   "source": [
    "small3_indices = df[\"ratio\"].nsmallest(3).index.tolist()\n",
    "for i in small3_indices:\n",
    "    output.append(df[\"state-code\"][i])"
   ]
  },
  {
   "cell_type": "code",
   "execution_count": 7,
   "id": "1b57af0a",
   "metadata": {},
   "outputs": [],
   "source": [
    "df2 = pd.DataFrame(output)\n",
    "df2.rename(columns = {0 : 'state-code'}, inplace = True)"
   ]
  },
  {
   "cell_type": "code",
   "execution_count": 8,
   "id": "c5c24d8b",
   "metadata": {},
   "outputs": [],
   "source": [
    "df2.to_csv(\"../Final Outputs/3-to-2-ratio.csv\", index = False)"
   ]
  },
  {
   "cell_type": "code",
   "execution_count": 9,
   "id": "8c7e247e",
   "metadata": {},
   "outputs": [
    {
     "data": {
      "text/html": [
       "<div>\n",
       "<style scoped>\n",
       "    .dataframe tbody tr th:only-of-type {\n",
       "        vertical-align: middle;\n",
       "    }\n",
       "\n",
       "    .dataframe tbody tr th {\n",
       "        vertical-align: top;\n",
       "    }\n",
       "\n",
       "    .dataframe thead th {\n",
       "        text-align: right;\n",
       "    }\n",
       "</style>\n",
       "<table border=\"1\" class=\"dataframe\">\n",
       "  <thead>\n",
       "    <tr style=\"text-align: right;\">\n",
       "      <th></th>\n",
       "      <th>state-code</th>\n",
       "    </tr>\n",
       "  </thead>\n",
       "  <tbody>\n",
       "    <tr>\n",
       "      <th>0</th>\n",
       "      <td>30</td>\n",
       "    </tr>\n",
       "    <tr>\n",
       "      <th>1</th>\n",
       "      <td>3</td>\n",
       "    </tr>\n",
       "    <tr>\n",
       "      <th>2</th>\n",
       "      <td>4</td>\n",
       "    </tr>\n",
       "    <tr>\n",
       "      <th>3</th>\n",
       "      <td>10</td>\n",
       "    </tr>\n",
       "    <tr>\n",
       "      <th>4</th>\n",
       "      <td>5</td>\n",
       "    </tr>\n",
       "    <tr>\n",
       "      <th>5</th>\n",
       "      <td>9</td>\n",
       "    </tr>\n",
       "  </tbody>\n",
       "</table>\n",
       "</div>"
      ],
      "text/plain": [
       "   state-code\n",
       "0          30\n",
       "1           3\n",
       "2           4\n",
       "3          10\n",
       "4           5\n",
       "5           9"
      ]
     },
     "execution_count": 9,
     "metadata": {},
     "output_type": "execute_result"
    }
   ],
   "source": [
    "df2"
   ]
  },
  {
   "cell_type": "code",
   "execution_count": null,
   "id": "b6d20854",
   "metadata": {},
   "outputs": [],
   "source": []
  }
 ],
 "metadata": {
  "kernelspec": {
   "display_name": "Python 3 (ipykernel)",
   "language": "python",
   "name": "python3"
  },
  "language_info": {
   "codemirror_mode": {
    "name": "ipython",
    "version": 3
   },
   "file_extension": ".py",
   "mimetype": "text/x-python",
   "name": "python",
   "nbconvert_exporter": "python",
   "pygments_lexer": "ipython3",
   "version": "3.9.6"
  }
 },
 "nbformat": 4,
 "nbformat_minor": 5
}
