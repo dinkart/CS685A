{
 "cells": [
  {
   "cell_type": "code",
   "execution_count": 1,
   "id": "77fe6230",
   "metadata": {},
   "outputs": [],
   "source": [
    "import pandas as pd\n",
    "from difflib import get_close_matches\n",
    "from difflib import SequenceMatcher"
   ]
  },
  {
   "cell_type": "code",
   "execution_count": 2,
   "id": "0236cc13",
   "metadata": {},
   "outputs": [],
   "source": [
    "df1 = pd.read_excel(\"../Data/DDW_PCA0000_2011_Indiastatedist.xlsx\", sheet_name='Sheet1', usecols = ['State', 'Level', 'Name', 'TRU', 'TOT_P', 'TOT_M', 'TOT_F'])\n",
    "df1 = df1[df1[\"TRU\"] == \"Total\"]\n",
    "#Replacing State codes with state names in census data\n",
    "for idx, item in df1[df1[\"Level\"] == \"STATE\"].iterrows():\n",
    "    df1.replace(item[\"State\"], item[\"Name\"], inplace = True)\n",
    "df1 = df1[df1[\"Level\"] == \"DISTRICT\"]\n",
    "df1.reset_index(inplace = True)"
   ]
  },
  {
   "cell_type": "code",
   "execution_count": 3,
   "id": "2d7d0d66",
   "metadata": {},
   "outputs": [],
   "source": [
    "df2 = pd.read_csv(\"../Data/cowin_vaccine_data_districtwise.csv\", skiprows = [1])\n",
    "df2 = df2.fillna(0)\n",
    "df2 = df2.groupby(['State', 'District_Key', 'District'], as_index=False).agg('sum')"
   ]
  },
  {
   "cell_type": "code",
   "execution_count": 4,
   "id": "56143783",
   "metadata": {},
   "outputs": [
    {
     "name": "stderr",
     "output_type": "stream",
     "text": [
      "C:\\Users\\Dinkar\\AppData\\Local\\Temp/ipykernel_16316/1776395301.py:24: SettingWithCopyWarning: \n",
      "A value is trying to be set on a copy of a slice from a DataFrame\n",
      "\n",
      "See the caveats in the documentation: https://pandas.pydata.org/pandas-docs/stable/user_guide/indexing.html#returning-a-view-versus-a-copy\n",
      "  df1['Name'][idx] = name\n"
     ]
    }
   ],
   "source": [
    "#Replacing district names in census data with district id\n",
    "patterns = list(df2[\"District\"])\n",
    "count = 0\n",
    "for idx, word in enumerate(df1[\"Name\"]):\n",
    "    match = get_close_matches(word, patterns, cutoff = 0.75)\n",
    "    maxr = 0\n",
    "    name = ''\n",
    "    for item in match:\n",
    "        r = SequenceMatcher(None, item, word).ratio()\n",
    "        if(r > maxr):\n",
    "            name = df2.District_Key[df2[\"District\"] == item].astype('category').values[0]\n",
    "            maxr = r\n",
    "        elif r == maxr:\n",
    "            state = df1.State[df1[\"Name\"] == word].astype('category').values[0]            #State of the district in CENSUS Data\n",
    "            state1 = df2.State[df2[\"District\"] == item].astype('category').values[0]       #State of the district in Vaccine Data\n",
    "            \n",
    "            if state == state1.upper():\n",
    "                name = df2.District_Key[df2[\"District\"] == item].astype('category').values[0]\n",
    "                maxr = r\n",
    "        #print(word)\n",
    "    if name == '':\n",
    "        df1.drop(index = idx, inplace = True)\n",
    "    else :\n",
    "        df1['Name'][idx] = name\n",
    "df1.reset_index(inplace = True)"
   ]
  },
  {
   "cell_type": "code",
   "execution_count": 5,
   "id": "59919cc5",
   "metadata": {},
   "outputs": [],
   "source": [
    "dist = {\"districtid\" : [], \"vaccinateddose1ratio\" : [], \"vaccinateddose2ratio\" : []}\n",
    "for idx, row in df1.iterrows():\n",
    "    dist[\"districtid\"].append(row[\"Name\"])\n",
    "    \n",
    "    #vaccination ratio calculation\n",
    "    d1 = df2[df2[\"District_Key\"] == row[\"Name\"]][\"14-08-2021.3\"].astype('category').values[0]\n",
    "    d2 = df2[df2[\"District_Key\"] == row[\"Name\"]][\"14-08-2021.4\"].astype('category').values[0]\n",
    "    \n",
    "    n = row[\"TOT_P\"]\n",
    "    \n",
    "    dist[\"vaccinateddose1ratio\"].append(d1/n)\n",
    "    dist[\"vaccinateddose2ratio\"].append(d2/n)"
   ]
  },
  {
   "cell_type": "code",
   "execution_count": 6,
   "id": "4a7bc4c1",
   "metadata": {},
   "outputs": [],
   "source": [
    "df = pd.DataFrame(dist)\n",
    "df.to_csv(\"../Final Outputs/vaccinated-dose-ratio-dist.csv\", index = False)"
   ]
  },
  {
   "cell_type": "code",
   "execution_count": null,
   "id": "80025d78",
   "metadata": {},
   "outputs": [],
   "source": []
  }
 ],
 "metadata": {
  "kernelspec": {
   "display_name": "Python 3 (ipykernel)",
   "language": "python",
   "name": "python3"
  },
  "language_info": {
   "codemirror_mode": {
    "name": "ipython",
    "version": 3
   },
   "file_extension": ".py",
   "mimetype": "text/x-python",
   "name": "python",
   "nbconvert_exporter": "python",
   "pygments_lexer": "ipython3",
   "version": "3.9.6"
  }
 },
 "nbformat": 4,
 "nbformat_minor": 5
}
