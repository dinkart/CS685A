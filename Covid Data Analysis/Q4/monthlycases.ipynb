{
 "cells": [
  {
   "cell_type": "markdown",
   "id": "e49672a3",
   "metadata": {},
   "source": [
    "# Create monthly cases data"
   ]
  },
  {
   "cell_type": "code",
   "execution_count": 1,
   "id": "1a56d44a",
   "metadata": {},
   "outputs": [],
   "source": [
    "import pandas as pd\n",
    "import pandasql as ps\n",
    "import datetime"
   ]
  },
  {
   "cell_type": "code",
   "execution_count": 2,
   "id": "30493745",
   "metadata": {},
   "outputs": [],
   "source": [
    "df1 = pd.read_csv(\"district_new.csv\", parse_dates=['Date'])"
   ]
  },
  {
   "cell_type": "code",
   "execution_count": 3,
   "id": "835cf12a",
   "metadata": {},
   "outputs": [],
   "source": [
    "dis_monthly = {\"districtid\" : [], \"monthid\" : [], \"cases\": []}\n",
    "state_monthly = {\"stateid\" : [], \"monthid\" : [], \"cases\": []}\n",
    "overall_monthly = {\"id\" : [], \"monthid\" : [], \"cases\": []}"
   ]
  },
  {
   "cell_type": "code",
   "execution_count": 4,
   "id": "676077a3",
   "metadata": {},
   "outputs": [],
   "source": [
    "def addMonth(date):\n",
    "    day = date.day\n",
    "    year = date.year + date.month // 12\n",
    "    month = date.month % 12 + 1\n",
    "    ndate = datetime.datetime(year, month, day)\n",
    "    return ndate"
   ]
  },
  {
   "cell_type": "code",
   "execution_count": 5,
   "id": "249e50fb",
   "metadata": {},
   "outputs": [],
   "source": [
    "for item in list(df1[\"District_Key\"].unique()):\n",
    "    sdate = datetime.datetime(2020, 4, 15)\n",
    "    edate = datetime.datetime(2021, 8, 15)\n",
    "    tdf = df1[df1[\"District_Key\"] == item]\n",
    "    monthid = 1\n",
    "    n1 = 0\n",
    "    while sdate < edate:\n",
    "        dis_monthly[\"districtid\"].append(item)\n",
    "        dis_monthly[\"monthid\"].append(monthid)\n",
    "        if sdate not in list(tdf[\"Date\"]):\n",
    "            n2 = 0\n",
    "            dis_monthly[\"cases\"].append(n2)\n",
    "        else:\n",
    "            n2 = tdf[tdf['Date'] == sdate]['Confirmed'].astype('category').values[0]\n",
    "            cases = n2 - n1\n",
    "            dis_monthly[\"cases\"].append(cases)\n",
    "        n1 = n2\n",
    "        monthid += 1\n",
    "        sdate = addMonth(sdate)"
   ]
  },
  {
   "cell_type": "code",
   "execution_count": 6,
   "id": "c992ecb9",
   "metadata": {},
   "outputs": [],
   "source": [
    "for item in list(df1[\"State_Code\"].unique()):\n",
    "    sdate = datetime.datetime(2020, 4, 15)\n",
    "    edate = datetime.datetime(2021, 8, 15)\n",
    "    tdf = df1[df1[\"State_Code\"] == item]\n",
    "    monthid = 1\n",
    "    n1 = 0\n",
    "    while sdate < edate:\n",
    "        state_monthly[\"stateid\"].append(item)\n",
    "        state_monthly[\"monthid\"].append(monthid)\n",
    "        if sdate not in list(tdf[\"Date\"]):\n",
    "            n2 = 0\n",
    "            state_monthly[\"cases\"].append(n2)\n",
    "        else:\n",
    "            n2 = list(tdf[tdf['Date'] == sdate]['Confirmed'].astype('category').values)\n",
    "            n2 = sum(n2)\n",
    "            cases = n2 - n1\n",
    "            state_monthly[\"cases\"].append(cases)\n",
    "        n1 = n2\n",
    "        monthid += 1\n",
    "        sdate = addMonth(sdate)"
   ]
  },
  {
   "cell_type": "code",
   "execution_count": 7,
   "id": "5e2e5e16",
   "metadata": {},
   "outputs": [],
   "source": [
    "sdate = datetime.datetime(2020, 4, 15)\n",
    "edate = datetime.datetime(2021, 8, 15)\n",
    "monthid = 1\n",
    "n1 = 0\n",
    "while sdate < edate:\n",
    "    overall_monthly[\"id\"].append(\"Ind\")\n",
    "    overall_monthly[\"monthid\"].append(monthid)\n",
    "    if sdate not in list(df1[\"Date\"]):\n",
    "        n2 = 0\n",
    "        overall_monthly[\"cases\"].append(n2)\n",
    "    else:\n",
    "        n2 = list(df1[df1['Date'] == sdate]['Confirmed'].astype('category').values)\n",
    "        n2 = sum(n2)\n",
    "        cases = n2 - n1\n",
    "        overall_monthly[\"cases\"].append(cases)\n",
    "    n1 = n2\n",
    "    monthid += 1\n",
    "    sdate = addMonth(sdate)"
   ]
  },
  {
   "cell_type": "code",
   "execution_count": 8,
   "id": "795d6c71",
   "metadata": {},
   "outputs": [],
   "source": [
    "df = pd.DataFrame(dis_monthly)\n",
    "df.to_csv(\"dis-cases-month.csv\", index = False)"
   ]
  },
  {
   "cell_type": "code",
   "execution_count": 9,
   "id": "a27bd75a",
   "metadata": {},
   "outputs": [],
   "source": [
    "df = pd.DataFrame(state_monthly)\n",
    "df.to_csv(\"state-cases-month.csv\", index = False)"
   ]
  },
  {
   "cell_type": "code",
   "execution_count": 11,
   "id": "e118fd1c",
   "metadata": {},
   "outputs": [],
   "source": [
    "df = pd.DataFrame(overall_monthly)\n",
    "df.to_csv(\"overall-cases-month.csv\", index = False)"
   ]
  },
  {
   "cell_type": "code",
   "execution_count": null,
   "id": "1708c6a7",
   "metadata": {},
   "outputs": [],
   "source": []
  }
 ],
 "metadata": {
  "kernelspec": {
   "display_name": "Python 3 (ipykernel)",
   "language": "python",
   "name": "python3"
  },
  "language_info": {
   "codemirror_mode": {
    "name": "ipython",
    "version": 3
   },
   "file_extension": ".py",
   "mimetype": "text/x-python",
   "name": "python",
   "nbconvert_exporter": "python",
   "pygments_lexer": "ipython3",
   "version": "3.9.6"
  }
 },
 "nbformat": 4,
 "nbformat_minor": 5
}
