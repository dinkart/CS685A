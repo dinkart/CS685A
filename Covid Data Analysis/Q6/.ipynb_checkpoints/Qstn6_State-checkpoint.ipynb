{
 "cells": [
  {
   "cell_type": "code",
   "execution_count": 1,
   "id": "b9dc6d2a",
   "metadata": {},
   "outputs": [],
   "source": [
    "import pandas as pd"
   ]
  },
  {
   "cell_type": "code",
   "execution_count": 2,
   "id": "15fd7b14",
   "metadata": {},
   "outputs": [],
   "source": [
    "df1 = pd.read_excel(\"../Data/DDW_PCA0000_2011_Indiastatedist.xlsx\", sheet_name='Sheet1', usecols = ['State', 'Level', 'Name', 'TRU', 'TOT_P', 'TOT_M', 'TOT_F'])\n",
    "df1 = df1[df1[\"TRU\"] == \"Total\"]\n",
    "#Replacing State codes with state names in census data\n",
    "for idx, item in df1[df1[\"Level\"] == \"STATE\"].iterrows():\n",
    "    df1.replace(item[\"State\"], item[\"Name\"], inplace = True)\n",
    "df1 = df1[df1[\"Level\"] == \"STATE\"]\n",
    "df1.reset_index(inplace = True)\n",
    "#Updating State names in census data according to vaccine data\n",
    "df1.replace({'&': 'AND'}, regex=True, inplace = True)\n",
    "df1.replace({'NCT OF DELHI': 'DELHI'}, regex=True, inplace = True)\n",
    "df1.replace({'DAMAN AND DIU': 'Dadra and Nagar Haveli and Daman and Diu'.upper()}, regex=True, inplace = True)\n",
    "df1.replace('DADRA AND NAGAR HAVELI', 'Dadra and Nagar Haveli and Daman and Diu'.upper(), inplace = True)\n",
    "df1 = df1.groupby(['State', 'Level', 'Name'], as_index=False).agg('sum')"
   ]
  },
  {
   "cell_type": "code",
   "execution_count": 3,
   "id": "0205be2c",
   "metadata": {},
   "outputs": [],
   "source": [
    "df2 = pd.read_csv(\"../Data/cowin_vaccine_data_districtwise.csv\", skiprows = [1])\n",
    "df2 = df2.fillna(0)\n",
    "df2 = df2.groupby(['State_Code', 'State', 'District_Key', 'District'], as_index=False).agg('sum')\n",
    "df2 = df2.apply(lambda x: x.astype(str).str.upper())     #to make every state in uppercase"
   ]
  },
  {
   "cell_type": "code",
   "execution_count": 4,
   "id": "2cdee0f4",
   "metadata": {},
   "outputs": [],
   "source": [
    "state = {\"stateid\" : [], \"vaccinationratio\" : [], \"populationratio\" : [], \"ratioofratios\" : []}\n",
    "skipped = 0\n",
    "for idx, row in df1.iterrows():\n",
    "    try:\n",
    "        scode = df2.State_Code[df2[\"State\"] == row[\"Name\"]].astype('category').values[0]\n",
    "        state[\"stateid\"].append(scode)\n",
    "    except IndexError:\n",
    "        skipped += 1\n",
    "        continue\n",
    "        \n",
    "    #vaccination ratio calculation\n",
    "    f = list(df2[df2[\"State\"] == row[\"Name\"]][\"14-08-2021.6\"].astype('category').values)\n",
    "    f = [int(i) for i in f]\n",
    "    m = list(df2[df2[\"State\"] == row[\"Name\"]][\"14-08-2021.5\"].astype('category').values)\n",
    "    m = [int(i) for i in m]\n",
    "    state[\"vaccinationratio\"].append(sum(f)/sum(m))\n",
    "\n",
    "    #population ratio calculation\n",
    "    pratio = row[\"TOT_F\"] / row[\"TOT_M\"]\n",
    "    state[\"populationratio\"].append(pratio)\n",
    "    \n",
    "    #ratio of ratios\n",
    "    rr = state[\"vaccinationratio\"][idx - skipped] / state[\"populationratio\"][idx - skipped]\n",
    "    state[\"ratioofratios\"].append(rr)"
   ]
  },
  {
   "cell_type": "code",
   "execution_count": 5,
   "id": "5d10d49a",
   "metadata": {},
   "outputs": [],
   "source": [
    "df = pd.DataFrame(state)"
   ]
  },
  {
   "cell_type": "code",
   "execution_count": 6,
   "id": "f25843bb",
   "metadata": {},
   "outputs": [],
   "source": [
    "df.to_csv(\"../Final Outputs/vaccination-population-ratio-state.csv\", index = False)"
   ]
  },
  {
   "cell_type": "code",
   "execution_count": null,
   "id": "c3cebdcc",
   "metadata": {},
   "outputs": [],
   "source": []
  }
 ],
 "metadata": {
  "kernelspec": {
   "display_name": "Python 3 (ipykernel)",
   "language": "python",
   "name": "python3"
  },
  "language_info": {
   "codemirror_mode": {
    "name": "ipython",
    "version": 3
   },
   "file_extension": ".py",
   "mimetype": "text/x-python",
   "name": "python",
   "nbconvert_exporter": "python",
   "pygments_lexer": "ipython3",
   "version": "3.9.6"
  }
 },
 "nbformat": 4,
 "nbformat_minor": 5
}
